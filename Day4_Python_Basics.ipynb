{
 "cells": [
  {
   "cell_type": "markdown",
   "metadata": {},
   "source": [
    "# PYTHON LAMBDA FUNCTION:"
   ]
  },
  {
   "cell_type": "code",
   "execution_count": 1,
   "metadata": {},
   "outputs": [
    {
     "name": "stdout",
     "output_type": "stream",
     "text": [
      "15\n"
     ]
    }
   ],
   "source": [
    "#Use of lambda function\n",
    "x=lambda a:a+10\n",
    "print(x(5))"
   ]
  },
  {
   "cell_type": "code",
   "execution_count": 2,
   "metadata": {},
   "outputs": [
    {
     "name": "stdout",
     "output_type": "stream",
     "text": [
      "450\n"
     ]
    }
   ],
   "source": [
    "#Multiply multiple arguments:\n",
    "x=lambda a,b:a*b \n",
    "print(x(5,90))"
   ]
  },
  {
   "cell_type": "code",
   "execution_count": 3,
   "metadata": {},
   "outputs": [
    {
     "name": "stdout",
     "output_type": "stream",
     "text": [
      "146\n"
     ]
    }
   ],
   "source": [
    "#Summarize multiple arguments:\n",
    "x=lambda a,b,c:a+b+c\n",
    "print(x(23,34,89))"
   ]
  },
  {
   "cell_type": "code",
   "execution_count": 4,
   "metadata": {},
   "outputs": [],
   "source": [
    "# Use of lambda function:\n",
    "def myfunction(n):\n",
    "    x= lambda a:a*n"
   ]
  },
  {
   "cell_type": "code",
   "execution_count": 13,
   "metadata": {},
   "outputs": [
    {
     "name": "stdout",
     "output_type": "stream",
     "text": [
      "12\n",
      "276\n"
     ]
    }
   ],
   "source": [
    "# Use of function that doubles the number:\n",
    "def myfunction(n):\n",
    "    return lambda a:a*n\n",
    "mydouble=myfunction(4)\n",
    "print(mydouble(3))\n",
    "# Use of function that triples the number:\n",
    "def calculate(n):\n",
    "    return lambda a:a*n\n",
    "triple=calculate(23)\n",
    "print(triple(12))\n",
    "\n"
   ]
  },
  {
   "cell_type": "code",
   "execution_count": 14,
   "metadata": {},
   "outputs": [
    {
     "name": "stdout",
     "output_type": "stream",
     "text": [
      "22\n",
      "33\n"
     ]
    }
   ],
   "source": [
    "# Use of tripler and doubler function in a same position:\n",
    "def myfunction(n):\n",
    "    return lambda a:a*n\n",
    "my_double=myfunction(2)\n",
    "print(my_double(11))\n",
    "my_triple=myfunction(3)\n",
    "print(my_triple(11))"
   ]
  },
  {
   "cell_type": "code",
   "execution_count": 1,
   "metadata": {},
   "outputs": [],
   "source": [
    "#Arrays:\n",
    "cars=[\"Ford\",\"Car\",\"BMW\"]"
   ]
  },
  {
   "cell_type": "code",
   "execution_count": 8,
   "metadata": {},
   "outputs": [
    {
     "name": "stdout",
     "output_type": "stream",
     "text": [
      "BMW\n",
      "['Ford', 'Car', 'Craolla']\n"
     ]
    }
   ],
   "source": [
    "#Accessing&Modifying  Array Element:\n",
    "cars=[\"Ford\",\"Car\",\"BMW\"]\n",
    "car1=[0]\n",
    "car2=[1]\n",
    "car3=[2]\n",
    "x=cars[2]\n",
    "print(x)\n",
    "cars[2]=\"Craolla\"\n",
    "print(cars)"
   ]
  },
  {
   "cell_type": "code",
   "execution_count": 8,
   "metadata": {},
   "outputs": [
    {
     "data": {
      "text/plain": [
       "['BMW']"
      ]
     },
     "execution_count": 8,
     "metadata": {},
     "output_type": "execute_result"
    }
   ],
   "source": [
    "#Removing one element and array:\n",
    "cars=[\"Ford\",\"Car\",\"BMW\"]\n",
    "cars.pop(1)\n",
    "cars.remove(\"Ford\")\n",
    "cars"
   ]
  },
  {
   "cell_type": "markdown",
   "metadata": {},
   "source": [
    "#Classes in Python:"
   ]
  },
  {
   "cell_type": "code",
   "execution_count": 3,
   "metadata": {},
   "outputs": [
    {
     "name": "stdout",
     "output_type": "stream",
     "text": [
      "<class '__main__.MyClass'>\n"
     ]
    }
   ],
   "source": [
    "# Create a Class\n",
    "class MyClass:\n",
    "    x=5\n",
    "\n",
    "print(MyClass)\n"
   ]
  },
  {
   "cell_type": "code",
   "execution_count": 7,
   "metadata": {},
   "outputs": [
    {
     "name": "stdout",
     "output_type": "stream",
     "text": [
      "10\n"
     ]
    }
   ],
   "source": [
    "# Create a object:\n",
    "class MyClass:\n",
    "    x=10\n",
    "P=MyClass()\n",
    "print(P.x)"
   ]
  },
  {
   "cell_type": "code",
   "execution_count": null,
   "metadata": {},
   "outputs": [],
   "source": []
  },
  {
   "cell_type": "code",
   "execution_count": null,
   "metadata": {},
   "outputs": [],
   "source": []
  },
  {
   "cell_type": "code",
   "execution_count": 14,
   "metadata": {},
   "outputs": [
    {
     "name": "stdout",
     "output_type": "stream",
     "text": [
      "Ayesha\n",
      "78\n"
     ]
    }
   ],
   "source": [
    "#use_init__ function:\n",
    "class MyClass:\n",
    "    def __init__(self,name,age):\n",
    "        self.name=name\n",
    "        self.age=age\n",
    "p=MyClass(\"Ayesha\",78)\n",
    "print(p.name)\n",
    "print(p.age)\n",
    "     \n"
   ]
  },
  {
   "cell_type": "code",
   "execution_count": 15,
   "metadata": {},
   "outputs": [
    {
     "ename": "TypeError",
     "evalue": "MyClass() takes no arguments",
     "output_type": "error",
     "traceback": [
      "\u001b[1;31m---------------------------------------------------------------------------\u001b[0m",
      "\u001b[1;31mTypeError\u001b[0m                                 Traceback (most recent call last)",
      "Cell \u001b[1;32mIn[15], line 6\u001b[0m\n\u001b[0;32m      4\u001b[0m         \u001b[38;5;28mself\u001b[39m\u001b[38;5;241m.\u001b[39mname\u001b[38;5;241m=\u001b[39mname\n\u001b[0;32m      5\u001b[0m         \u001b[38;5;28mself\u001b[39m\u001b[38;5;241m.\u001b[39mage\u001b[38;5;241m=\u001b[39mage\n\u001b[1;32m----> 6\u001b[0m p\u001b[38;5;241m=\u001b[39m\u001b[43mMyClass\u001b[49m\u001b[43m(\u001b[49m\u001b[38;5;124;43m\"\u001b[39;49m\u001b[38;5;124;43mAyesha\u001b[39;49m\u001b[38;5;124;43m\"\u001b[39;49m\u001b[43m,\u001b[49m\u001b[38;5;241;43m56\u001b[39;49m\u001b[43m)\u001b[49m\n\u001b[0;32m      7\u001b[0m \u001b[38;5;28mprint\u001b[39m(p)\n",
      "\u001b[1;31mTypeError\u001b[0m: MyClass() takes no arguments"
     ]
    }
   ],
   "source": [
    "#Without string Function:\n",
    "class MyClass:\n",
    "    def __init____ (self,name,age):\n",
    "        self.name=name\n",
    "        self.age=age\n",
    "p=MyClass(\"Ayesha\",56)\n",
    "print(p)"
   ]
  },
  {
   "cell_type": "code",
   "execution_count": 25,
   "metadata": {},
   "outputs": [
    {
     "ename": "TypeError",
     "evalue": "MyClass() takes no arguments",
     "output_type": "error",
     "traceback": [
      "\u001b[1;31m---------------------------------------------------------------------------\u001b[0m",
      "\u001b[1;31mTypeError\u001b[0m                                 Traceback (most recent call last)",
      "Cell \u001b[1;32mIn[25], line 10\u001b[0m\n\u001b[0;32m      7\u001b[0m     \u001b[38;5;28;01mdef\u001b[39;00m \u001b[38;5;21m__str__\u001b[39m(\u001b[38;5;28mself\u001b[39m):\n\u001b[0;32m      8\u001b[0m        \u001b[38;5;28;01mreturn\u001b[39;00m \u001b[38;5;124mf\u001b[39m\u001b[38;5;124m\"\u001b[39m\u001b[38;5;132;01m{\u001b[39;00m\u001b[38;5;28mself\u001b[39m\u001b[38;5;241m.\u001b[39mname\u001b[38;5;132;01m}\u001b[39;00m\u001b[38;5;124m(\u001b[39m\u001b[38;5;132;01m{\u001b[39;00m\u001b[38;5;28mself\u001b[39m\u001b[38;5;241m.\u001b[39mage\u001b[38;5;132;01m}\u001b[39;00m\u001b[38;5;124m)\u001b[39m\u001b[38;5;124m\"\u001b[39m\n\u001b[1;32m---> 10\u001b[0m p\u001b[38;5;241m=\u001b[39m\u001b[43mMyClass\u001b[49m\u001b[43m(\u001b[49m\u001b[38;5;124;43m\"\u001b[39;49m\u001b[38;5;124;43mAyesha\u001b[39;49m\u001b[38;5;124;43m\"\u001b[39;49m\u001b[43m,\u001b[49m\u001b[38;5;241;43m89\u001b[39;49m\u001b[43m)\u001b[49m\n\u001b[0;32m     11\u001b[0m \u001b[38;5;28mprint\u001b[39m(p)\n",
      "\u001b[1;31mTypeError\u001b[0m: MyClass() takes no arguments"
     ]
    }
   ],
   "source": [
    "#With String Function:\n",
    "class MyClass:\n",
    "    def ___init___(self,name,age):\n",
    "        self.age=age\n",
    "        self.name=name\n",
    "\n",
    "    def __str__(self):\n",
    "       return f\"{self.name}({self.age})\"\n",
    "    \n",
    "p=MyClass(\"Ayesha\",89)\n",
    "print(p)\n",
    "\n"
   ]
  },
  {
   "cell_type": "code",
   "execution_count": 24,
   "metadata": {},
   "outputs": [
    {
     "name": "stdout",
     "output_type": "stream",
     "text": [
      "Ayesha(89)\n"
     ]
    }
   ],
   "source": [
    "class MyClass:\n",
    "    def __init__(self, name, age):  # Corrected from ___init___ to __init__\n",
    "        self.age = age\n",
    "        self.name = name\n",
    "        \n",
    "    def __str__(self):  # Corrected from __str___ to __str__\n",
    "        return f\"{self.name}({self.age})\"\n",
    "\n",
    "p = MyClass(\"Ayesha\", 89)\n",
    "print(p)\n"
   ]
  },
  {
   "cell_type": "code",
   "execution_count": 41,
   "metadata": {},
   "outputs": [
    {
     "name": "stdout",
     "output_type": "stream",
     "text": [
      "Hello world I'm hereSamra\n"
     ]
    }
   ],
   "source": [
    "#use of Object methods:\n",
    "class myClass:\n",
    "     def __init__(self,name,age):\n",
    "          self.name=name\n",
    "          self.age=age\n",
    "     def myfunc(self):\n",
    "           print(\"Hello world I'm here\"+self.name)\n",
    "\n",
    "\n",
    "p1=myClass(\"Samra\",21)\n",
    "p1.myfunc()\n",
    "     "
   ]
  },
  {
   "cell_type": "code",
   "execution_count": 52,
   "metadata": {},
   "outputs": [
    {
     "name": "stdout",
     "output_type": "stream",
     "text": [
      "Hello to the futuresamra\n"
     ]
    },
    {
     "ename": "AttributeError",
     "evalue": "'Person' object has no attribute 'age'",
     "output_type": "error",
     "traceback": [
      "\u001b[1;31m---------------------------------------------------------------------------\u001b[0m",
      "\u001b[1;31mAttributeError\u001b[0m                            Traceback (most recent call last)",
      "Cell \u001b[1;32mIn[52], line 14\u001b[0m\n\u001b[0;32m     12\u001b[0m \u001b[38;5;66;03m# Del Object Property\u001b[39;00m\n\u001b[0;32m     13\u001b[0m \u001b[38;5;28;01mdel\u001b[39;00m p1\u001b[38;5;241m.\u001b[39mage\n\u001b[1;32m---> 14\u001b[0m \u001b[38;5;28mprint\u001b[39m(\u001b[43mp1\u001b[49m\u001b[38;5;241;43m.\u001b[39;49m\u001b[43mage\u001b[49m)\n",
      "\u001b[1;31mAttributeError\u001b[0m: 'Person' object has no attribute 'age'"
     ]
    }
   ],
   "source": [
    "#Self Parameters and modifying object property:\n",
    "class Person:\n",
    "    def __init__ (myobject,name,age):\n",
    "        myobject.name=name\n",
    "        myobject.age=age\n",
    "    def  myfunc(abc):\n",
    "        print(\"Hello to the future\"+abc.name)\n",
    "p1=Person(\"samra\",98)\n",
    "p1.myfunc()\n",
    "p1.age=70\n",
    "\n",
    "# Del Object Property\n",
    "del p1.age\n",
    "print(p1.age)"
   ]
  },
  {
   "cell_type": "code",
   "execution_count": 54,
   "metadata": {},
   "outputs": [],
   "source": [
    "# Pass Statement:\n",
    "class Car:\n",
    "    pass"
   ]
  },
  {
   "cell_type": "code",
   "execution_count": null,
   "metadata": {},
   "outputs": [],
   "source": []
  }
 ],
 "metadata": {
  "kernelspec": {
   "display_name": "venv",
   "language": "python",
   "name": "python3"
  },
  "language_info": {
   "codemirror_mode": {
    "name": "ipython",
    "version": 3
   },
   "file_extension": ".py",
   "mimetype": "text/x-python",
   "name": "python",
   "nbconvert_exporter": "python",
   "pygments_lexer": "ipython3",
   "version": "3.12.6"
  }
 },
 "nbformat": 4,
 "nbformat_minor": 2
}
