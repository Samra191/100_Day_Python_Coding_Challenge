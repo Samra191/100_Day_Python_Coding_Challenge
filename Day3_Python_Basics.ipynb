{
 "cells": [
  {
   "cell_type": "markdown",
   "metadata": {},
   "source": [
    "# Python Loop,Conditional statements,Functions:"
   ]
  },
  {
   "cell_type": "code",
   "execution_count": 9,
   "metadata": {},
   "outputs": [
    {
     "name": "stdout",
     "output_type": "stream",
     "text": [
      "2\n",
      "3\n",
      "4\n",
      "5\n",
      "6\n"
     ]
    }
   ],
   "source": [
    "#While loop:\n",
    "i=1\n",
    "while(i<6):\n",
    "    #print(i)\n",
    "    i=i+1\n",
    "   \n"
   ]
  },
  {
   "cell_type": "code",
   "execution_count": 2,
   "metadata": {},
   "outputs": [
    {
     "name": "stdout",
     "output_type": "stream",
     "text": [
      "1\n",
      "2\n",
      "3\n"
     ]
    }
   ],
   "source": [
    "# Use of break statement:\n",
    "i = 1\n",
    "while (i < 6):\n",
    "  print(i)\n",
    "  if i == 3:\n",
    "    break\n",
    "  i=i+1"
   ]
  },
  {
   "cell_type": "code",
   "execution_count": 7,
   "metadata": {},
   "outputs": [
    {
     "name": "stdout",
     "output_type": "stream",
     "text": [
      "1\n",
      "2\n",
      "3\n",
      "4\n",
      "5\n",
      "7\n"
     ]
    }
   ],
   "source": [
    "# Use of Continue statment:\n",
    "i = 0\n",
    "while i < 7:\n",
    "  i=i+1\n",
    "  if i == 6:\n",
    "    continue\n",
    "  print(i)\n"
   ]
  },
  {
   "cell_type": "code",
   "execution_count": 10,
   "metadata": {},
   "outputs": [
    {
     "name": "stdout",
     "output_type": "stream",
     "text": [
      "0\n",
      "1\n",
      "2\n",
      "3\n",
      "4\n",
      "5\n",
      "6\n",
      "Above Condition is false:\n"
     ]
    }
   ],
   "source": [
    "#Use of else statement:\n",
    "i=0\n",
    "while i < 7:\n",
    "  print(i)\n",
    "  i=i+1\n",
    "else:\n",
    "  print(\"Above Condition is false:\")"
   ]
  },
  {
   "cell_type": "code",
   "execution_count": 22,
   "metadata": {},
   "outputs": [
    {
     "name": "stdout",
     "output_type": "stream",
     "text": [
      "Fruits\n",
      "Foods\n",
      "Oranges\n"
     ]
    }
   ],
   "source": [
    "#Use of For loops:\n",
    "items=[\"Fruits\",\"Foods\",\"Oranges\",\"Mango\"]\n",
    "for x in items:\n",
    "    print(x)\n",
    "    if x==\"Oranges\":\n",
    "      break\n"
   ]
  },
  {
   "cell_type": "code",
   "execution_count": 23,
   "metadata": {},
   "outputs": [
    {
     "name": "stdout",
     "output_type": "stream",
     "text": [
      "R\n",
      "e\n",
      "s\n",
      "t\n",
      "a\n",
      "u\n",
      "r\n",
      "a\n",
      "n\n",
      "t\n"
     ]
    }
   ],
   "source": [
    "#Loop through indexing:\n",
    "for x in \"Restaurant\":\n",
    "    print(x)\n"
   ]
  },
  {
   "cell_type": "code",
   "execution_count": 27,
   "metadata": {},
   "outputs": [
    {
     "name": "stdout",
     "output_type": "stream",
     "text": [
      "Apple\n",
      "Mango\n",
      "Oranges\n",
      "Banana\n"
     ]
    }
   ],
   "source": [
    "# Use Of Continue Statement:\n",
    "items=[\"Apple\",\"Mango\",\"Oranges\",\"Foods\",\"Banana\"]\n",
    "for x in items:\n",
    "    if x==\"Foods\":\n",
    "        continue\n",
    "    print(x)\n",
    "        "
   ]
  },
  {
   "cell_type": "code",
   "execution_count": 33,
   "metadata": {},
   "outputs": [
    {
     "name": "stdout",
     "output_type": "stream",
     "text": [
      "0\n",
      "1\n",
      "2\n",
      "3\n",
      "4\n",
      "5\n",
      "6\n",
      "7\n",
      "8\n",
      "2\n",
      "3\n",
      "4\n",
      "5\n",
      "6\n",
      "7\n",
      "8\n",
      "2\n"
     ]
    }
   ],
   "source": [
    "# Use OF range Function:\n",
    "for x in range(9):\n",
    "    print(x)\n",
    "for x in range(2,9):\n",
    "    print(x)\n",
    "for x in range(2,30,40):\n",
    "    print(x)"
   ]
  },
  {
   "cell_type": "code",
   "execution_count": 34,
   "metadata": {},
   "outputs": [
    {
     "name": "stdout",
     "output_type": "stream",
     "text": [
      "0\n",
      "1\n",
      "2\n",
      "3\n",
      "4\n",
      "5\n",
      "6\n",
      "7\n",
      "8\n",
      "9\n",
      "Not in a range\n"
     ]
    }
   ],
   "source": [
    "#Else in for loops:\n",
    "for x in range(10):\n",
    "    print(x)\n",
    "else:\n",
    "    print(\"Not in a range\")"
   ]
  },
  {
   "cell_type": "code",
   "execution_count": 37,
   "metadata": {},
   "outputs": [
    {
     "name": "stdout",
     "output_type": "stream",
     "text": [
      "0\n",
      "1\n",
      "2\n",
      "3\n",
      "4\n",
      "5\n",
      "6\n",
      "7\n",
      "8\n"
     ]
    }
   ],
   "source": [
    "#Else using Break statement:\n",
    "for x in range(10):\n",
    "    print(x)\n",
    "    if x==8:\n",
    "      break\n",
    "else:\n",
    "       print(\"Loop finished\")"
   ]
  },
  {
   "cell_type": "code",
   "execution_count": 39,
   "metadata": {},
   "outputs": [
    {
     "name": "stdout",
     "output_type": "stream",
     "text": [
      "samra Ayesha\n",
      "samra Noor\n",
      "samra Maham\n",
      "fatima Ayesha\n",
      "fatima Noor\n",
      "fatima Maham\n",
      "Ayesha Ayesha\n",
      "Ayesha Noor\n",
      "Ayesha Maham\n",
      "Momna Ayesha\n",
      "Momna Noor\n",
      "Momna Maham\n"
     ]
    }
   ],
   "source": [
    "# Nested Loops:\n",
    "list1=[\"samra\",\"fatima\",\"Ayesha\",\"Momna\"]\n",
    "list2=[\"Ayesha\",\"Noor\",\"Maham\"]\n",
    "for x in list1:\n",
    "    for y in list2:\n",
    "      print(x,y)"
   ]
  },
  {
   "cell_type": "code",
   "execution_count": 40,
   "metadata": {},
   "outputs": [],
   "source": [
    "# Pass statement:\n",
    "for x in \"Hello to the future\":\n",
    "    pass"
   ]
  },
  {
   "cell_type": "code",
   "execution_count": 43,
   "metadata": {},
   "outputs": [
    {
     "name": "stdout",
     "output_type": "stream",
     "text": [
      "Both Conditions are not true\n"
     ]
    }
   ],
   "source": [
    "# If Statements Python Condition and Else statement:\n",
    "a=890\n",
    "b=100\n",
    "if b>a:\n",
    "    print(\"B is greater \")\n",
    "elif a==b:\n",
    "    print(\"My Condition is true\")\n",
    "else:\n",
    "    print(\"Both Conditions are not true\")\n"
   ]
  },
  {
   "cell_type": "code",
   "execution_count": 49,
   "metadata": {},
   "outputs": [
    {
     "name": "stdout",
     "output_type": "stream",
     "text": [
      "My condition is true\n",
      "A\n",
      "Condition two is true\n"
     ]
    }
   ],
   "source": [
    "# Short hand if statement:\n",
    "a=12\n",
    "b=23\n",
    "print(\"My Condition not true\") if a>b else print (\"My condition is true\")\n",
    "# Another Example:\n",
    "a=97\n",
    "b=12\n",
    "print(\"A\") if a>b else print(\"B\")\n",
    "# Another Example with three conditions:\n",
    "a=97\n",
    "b=12\n",
    "print(\"A\")if b>a else print(\"Condition two is true\") if b<a else(\"Both are false\")"
   ]
  },
  {
   "cell_type": "code",
   "execution_count": 53,
   "metadata": {},
   "outputs": [
    {
     "name": "stdout",
     "output_type": "stream",
     "text": [
      "B is greater\n"
     ]
    }
   ],
   "source": [
    "#Use of logical  Operator:\n",
    "a=123\n",
    "b=234\n",
    "c=987\n",
    "if a>b and b>c:\n",
    "    print(\"A is greater\")\n",
    "if a<b or b>a:\n",
    "    print(\"B is greater\")\n",
    "if not c> a:\n",
    "    print(\"C is larger\")\n"
   ]
  },
  {
   "cell_type": "code",
   "execution_count": 59,
   "metadata": {},
   "outputs": [
    {
     "name": "stdout",
     "output_type": "stream",
     "text": [
      "X is a greater numbers\n",
      "x is smaller number\n"
     ]
    }
   ],
   "source": [
    "# Nested if statement:\n",
    "X=100\n",
    "if X<1000:\n",
    "    print(\"X is a greater numbers\")\n",
    "    if X>=100:\n",
    "         print(\"x is smaller number\")\n",
    "    else:\n",
    "        print(\"Not a number\")"
   ]
  },
  {
   "cell_type": "code",
   "execution_count": 61,
   "metadata": {},
   "outputs": [],
   "source": [
    "# Use of Pass statement in if statement:\n",
    "X=100\n",
    "if X==1000:\n",
    "   pass\n"
   ]
  },
  {
   "cell_type": "markdown",
   "metadata": {},
   "source": [
    "Python Functions:"
   ]
  },
  {
   "cell_type": "code",
   "execution_count": 63,
   "metadata": {},
   "outputs": [
    {
     "name": "stdout",
     "output_type": "stream",
     "text": [
      "This is my function\n"
     ]
    }
   ],
   "source": [
    "# Creating a function:\n",
    "def myfunc():\n",
    "    print(\"This is my function\")\n",
    "# Calling a function:\n",
    "myfunc()"
   ]
  },
  {
   "cell_type": "code",
   "execution_count": 68,
   "metadata": {},
   "outputs": [
    {
     "name": "stdout",
     "output_type": "stream",
     "text": [
      "Samra Hellolady\n",
      "fatima Hellolady\n",
      "Ayesha Hellolady\n"
     ]
    }
   ],
   "source": [
    "# Passing an arguments:\n",
    "def name(fname):\n",
    "    print(fname+ \" \" + \"Hellolady\")\n",
    "name(\"Samra\")\n",
    "name(\"fatima\")\n",
    "name(\"Ayesha\")"
   ]
  },
  {
   "cell_type": "code",
   "execution_count": 73,
   "metadata": {},
   "outputs": [
    {
     "name": "stdout",
     "output_type": "stream",
     "text": [
      "Hello world what are you doing\n",
      "Samra Ashraf\n"
     ]
    },
    {
     "ename": "TypeError",
     "evalue": "name() missing 1 required positional argument: 'lname'",
     "output_type": "error",
     "traceback": [
      "\u001b[1;31m---------------------------------------------------------------------------\u001b[0m",
      "\u001b[1;31mTypeError\u001b[0m                                 Traceback (most recent call last)",
      "Cell \u001b[1;32mIn[73], line 10\u001b[0m\n\u001b[0;32m      8\u001b[0m     \u001b[38;5;28mprint\u001b[39m(\u001b[38;5;124m\"\u001b[39m\u001b[38;5;124mHello world what are you doing\u001b[39m\u001b[38;5;124m\"\u001b[39m)\n\u001b[0;32m      9\u001b[0m     \u001b[38;5;28mprint\u001b[39m(fname,lname)\n\u001b[1;32m---> 10\u001b[0m \u001b[43mname\u001b[49m\u001b[43m(\u001b[49m\u001b[38;5;124;43m\"\u001b[39;49m\u001b[38;5;124;43mSamra\u001b[39;49m\u001b[38;5;124;43m\"\u001b[39;49m\u001b[43m)\u001b[49m\n",
      "\u001b[1;31mTypeError\u001b[0m: name() missing 1 required positional argument: 'lname'"
     ]
    }
   ],
   "source": [
    "#Function Arguments:\n",
    "def name(fname,lname):\n",
    "    print(\"Hello world what are you doing\")\n",
    "    print(fname +\" \"+lname)\n",
    "name(\"Samra\",\"Ashraf\")\n",
    "# if passed one arguments:\n",
    "def name(fname,lname):\n",
    "    print(\"Hello world what are you doing\")\n",
    "    print(fname,lname)\n",
    "name(\"Samra\")\n"
   ]
  },
  {
   "cell_type": "code",
   "execution_count": 78,
   "metadata": {},
   "outputs": [
    {
     "name": "stdout",
     "output_type": "stream",
     "text": [
      "Print the number 23\n"
     ]
    }
   ],
   "source": [
    "# Arbitrary Arguments:\n",
    "def calculate(*numbers):\n",
    "    print(\"Print the number\",numbers[2])\n",
    "calculate(7,9,23,2)\n"
   ]
  },
  {
   "cell_type": "code",
   "execution_count": 80,
   "metadata": {},
   "outputs": [
    {
     "name": "stdout",
     "output_type": "stream",
     "text": [
      "add two arguments with theseComputer Science English\n"
     ]
    }
   ],
   "source": [
    "#key value Arguments:\n",
    "def sum(num1,num2,num3):\n",
    "    print(\"add two arguments with these\"+num2+\" \" +num3)\n",
    "sum(num1=\"Math\",num2=\"Computer Science\",num3=\"English\")"
   ]
  },
  {
   "cell_type": "code",
   "execution_count": 82,
   "metadata": {},
   "outputs": [
    {
     "name": "stdout",
     "output_type": "stream",
     "text": [
      "Add these number Fatima\n"
     ]
    }
   ],
   "source": [
    "#Arbitaray key word Arguments **kwargs:\n",
    "def sum(**num):\n",
    "    print(\"Add these number\",num[\"fname\"])\n",
    "sum(lname=\"Samra\",fname=\"Fatima\")"
   ]
  },
  {
   "cell_type": "code",
   "execution_count": 85,
   "metadata": {},
   "outputs": [
    {
     "name": "stdout",
     "output_type": "stream",
     "text": [
      "the country  is Pakistan\n",
      "the country  is England\n",
      "the country  is Norway\n",
      "the country  is America\n"
     ]
    }
   ],
   "source": [
    "#Default Arguments:\n",
    "def my_function(country=\"Norway\"):\n",
    "    print(\"the country  is \" + country)\n",
    "my_function(\"Pakistan\")\n",
    "my_function(\"England\")\n",
    "my_function()\n",
    "my_function(\"America\")\n",
    "\n",
    "\n",
    "\n"
   ]
  },
  {
   "cell_type": "code",
   "execution_count": 87,
   "metadata": {},
   "outputs": [
    {
     "name": "stdout",
     "output_type": "stream",
     "text": [
      "Biryani\n",
      "Pasta\n",
      "Burger\n"
     ]
    }
   ],
   "source": [
    "#Passing List as an arguments:\n",
    "def items(foods):\n",
    "    for x in foods:\n",
    "        print(x)\n",
    "Food_item=[\"Biryani\",\"Pasta\",\"Burger\"]\n",
    "items(Food_item)"
   ]
  },
  {
   "cell_type": "code",
   "execution_count": 89,
   "metadata": {},
   "outputs": [
    {
     "name": "stdout",
     "output_type": "stream",
     "text": [
      "25\n",
      "50\n",
      "75\n"
     ]
    }
   ],
   "source": [
    "#Return Values:\n",
    "def calculate(x):\n",
    "    return x*5\n",
    "print(calculate(5))\n",
    "print(calculate(10))\n",
    "print(calculate(15))\n"
   ]
  },
  {
   "cell_type": "code",
   "execution_count": 90,
   "metadata": {},
   "outputs": [],
   "source": [
    "# Pass Stataement:\n",
    "def calculate(x):\n",
    "    pass"
   ]
  },
  {
   "cell_type": "code",
   "execution_count": 93,
   "metadata": {},
   "outputs": [
    {
     "name": "stdout",
     "output_type": "stream",
     "text": [
      "30\n"
     ]
    }
   ],
   "source": [
    "#Positional Arguments:\n",
    "def calculate(x,/):\n",
    "    print(x)\n",
    "calculate(30)"
   ]
  },
  {
   "cell_type": "code",
   "execution_count": 94,
   "metadata": {},
   "outputs": [
    {
     "name": "stdout",
     "output_type": "stream",
     "text": [
      "30\n"
     ]
    }
   ],
   "source": [
    "# Without specify Positional Arguments:\n",
    "#Positional Arguments:\n",
    "def calculate(x):\n",
    "    print(x)\n",
    "calculate(x=30)\n"
   ]
  },
  {
   "cell_type": "code",
   "execution_count": 95,
   "metadata": {},
   "outputs": [
    {
     "ename": "TypeError",
     "evalue": "calculate() got some positional-only arguments passed as keyword arguments: 'x'",
     "output_type": "error",
     "traceback": [
      "\u001b[1;31m---------------------------------------------------------------------------\u001b[0m",
      "\u001b[1;31mTypeError\u001b[0m                                 Traceback (most recent call last)",
      "Cell \u001b[1;32mIn[95], line 5\u001b[0m\n\u001b[0;32m      3\u001b[0m \u001b[38;5;28;01mdef\u001b[39;00m \u001b[38;5;21mcalculate\u001b[39m(x,\u001b[38;5;241m/\u001b[39m):\n\u001b[0;32m      4\u001b[0m     \u001b[38;5;28mprint\u001b[39m(x)\n\u001b[1;32m----> 5\u001b[0m \u001b[43mcalculate\u001b[49m\u001b[43m(\u001b[49m\u001b[43mx\u001b[49m\u001b[38;5;241;43m=\u001b[39;49m\u001b[38;5;241;43m30\u001b[39;49m\u001b[43m)\u001b[49m\n",
      "\u001b[1;31mTypeError\u001b[0m: calculate() got some positional-only arguments passed as keyword arguments: 'x'"
     ]
    }
   ],
   "source": [
    "# if specify Positional Arguments with key\n",
    "#Positional Arguments:\n",
    "def calculate(x,/):\n",
    "    print(x)\n",
    "calculate(x=30)"
   ]
  },
  {
   "cell_type": "code",
   "execution_count": 98,
   "metadata": {},
   "outputs": [
    {
     "name": "stdout",
     "output_type": "stream",
     "text": [
      "67\n"
     ]
    }
   ],
   "source": [
    "# Keyword only one arguments:\n",
    "def my_function(*, x):\n",
    "  print(x)\n",
    "\n",
    "my_function(x = 67)"
   ]
  },
  {
   "cell_type": "code",
   "execution_count": 100,
   "metadata": {},
   "outputs": [
    {
     "name": "stdout",
     "output_type": "stream",
     "text": [
      "100\n"
     ]
    }
   ],
   "source": [
    "#Combine Positional only and keyword only:\n",
    "def my_function(a,b,/,*,c,d):\n",
    "    print(a+b+c+d)\n",
    "my_function(10,20,c=30,d=40)"
   ]
  },
  {
   "cell_type": "code",
   "execution_count": 101,
   "metadata": {},
   "outputs": [
    {
     "name": "stdout",
     "output_type": "stream",
     "text": [
      "\n",
      "\n",
      "Recursion Example Results\n",
      "1\n",
      "3\n",
      "6\n",
      "10\n",
      "15\n",
      "21\n"
     ]
    },
    {
     "data": {
      "text/plain": [
       "21"
      ]
     },
     "execution_count": 101,
     "metadata": {},
     "output_type": "execute_result"
    }
   ],
   "source": [
    "#Recursion:\n",
    "def tri_recursion(k):\n",
    "  if(k > 0):\n",
    "    result = k + tri_recursion(k - 1)\n",
    "    print(result)\n",
    "  else:\n",
    "    result = 0\n",
    "  return result\n",
    "\n",
    "print(\"\\n\\nRecursion Example Results\")\n",
    "tri_recursion(6)"
   ]
  },
  {
   "cell_type": "code",
   "execution_count": null,
   "metadata": {},
   "outputs": [],
   "source": []
  }
 ],
 "metadata": {
  "kernelspec": {
   "display_name": "Python 3",
   "language": "python",
   "name": "python3"
  },
  "language_info": {
   "codemirror_mode": {
    "name": "ipython",
    "version": 3
   },
   "file_extension": ".py",
   "mimetype": "text/x-python",
   "name": "python",
   "nbconvert_exporter": "python",
   "pygments_lexer": "ipython3",
   "version": "3.12.6"
  }
 },
 "nbformat": 4,
 "nbformat_minor": 2
}
