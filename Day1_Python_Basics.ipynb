{
 "cells": [
  {
   "cell_type": "markdown",
   "metadata": {},
   "source": [
    "# Python_Basics"
   ]
  },
  {
   "cell_type": "code",
   "execution_count": 1,
   "metadata": {},
   "outputs": [
    {
     "name": "stdout",
     "output_type": "stream",
     "text": [
      "5\n",
      "John\n"
     ]
    }
   ],
   "source": [
    "# how to create variables in python\n",
    "x=5\n",
    "y=\"John\"\n",
    "print(x)\n",
    "print(y)"
   ]
  },
  {
   "cell_type": "code",
   "execution_count": 3,
   "metadata": {},
   "outputs": [
    {
     "name": "stdout",
     "output_type": "stream",
     "text": [
      "BOB\n"
     ]
    }
   ],
   "source": [
    "# how to change the type of variable\n",
    "x=5\n",
    "x=\"BOB\"\n",
    "print(x)"
   ]
  },
  {
   "cell_type": "code",
   "execution_count": null,
   "metadata": {},
   "outputs": [],
   "source": [
    "# Casting in variables\n",
    "x=str(3)\n",
    "y=int(3)\n",
    "z=float(3)\n",
    "print(x,y,z)"
   ]
  },
  {
   "cell_type": "code",
   "execution_count": 4,
   "metadata": {},
   "outputs": [
    {
     "name": "stdout",
     "output_type": "stream",
     "text": [
      "<class 'int'>\n",
      "<class 'str'>\n"
     ]
    }
   ],
   "source": [
    "# how to get type of variable\n",
    "x=5\n",
    "y=\"john\"\n",
    "print(type(x))\n",
    "print(type(y))"
   ]
  },
  {
   "cell_type": "code",
   "execution_count": 6,
   "metadata": {},
   "outputs": [
    {
     "name": "stdout",
     "output_type": "stream",
     "text": [
      "john\n",
      "john\n"
     ]
    }
   ],
   "source": [
    "#single or Double quotes in variables\n",
    "x=\"john\"\n",
    "print(x)\n",
    "x='john'\n",
    "print(x)"
   ]
  },
  {
   "cell_type": "code",
   "execution_count": 7,
   "metadata": {},
   "outputs": [
    {
     "name": "stdout",
     "output_type": "stream",
     "text": [
      "alias\n",
      "john\n"
     ]
    }
   ],
   "source": [
    "# Case Sensitive Variables\n",
    "a=\"alias\"\n",
    "A=\"john\"\n",
    "print(a)\n",
    "print(A)"
   ]
  },
  {
   "cell_type": "code",
   "execution_count": 11,
   "metadata": {},
   "outputs": [
    {
     "name": "stdout",
     "output_type": "stream",
     "text": [
      "Hello world What are you doing\n"
     ]
    }
   ],
   "source": [
    "myvar=\"Hello world\"\n",
    "MYVAR=\"What are you doing\"\n",
    "print(myvar,MYVAR)"
   ]
  },
  {
   "cell_type": "code",
   "execution_count": 3,
   "metadata": {},
   "outputs": [
    {
     "name": "stdout",
     "output_type": "stream",
     "text": [
      "samra\n",
      "SAMRA\n",
      "samra\n",
      "samra\n",
      "samra\n",
      "samra\n"
     ]
    }
   ],
   "source": [
    "# variables names:(legal or illegal)\n",
    "myvar=\"samra\"\n",
    "MYVAR=\"SAMRA\"\n",
    "MY_VAR=\"samra\"\n",
    "_my_var='samra'\n",
    "myVar=\"samra\"\n",
    "myvar2=\"samra\"\n",
    "print(_my_var)\n",
    "print(MYVAR)\n",
    "print(myvar)\n",
    "print(MY_VAR)\n",
    "print(myvar2)\n",
    "print(myVar)"
   ]
  },
  {
   "cell_type": "code",
   "execution_count": 4,
   "metadata": {},
   "outputs": [
    {
     "ename": "SyntaxError",
     "evalue": "invalid decimal literal (3196556706.py, line 2)",
     "output_type": "error",
     "traceback": [
      "\u001b[1;36m  Cell \u001b[1;32mIn[4], line 2\u001b[1;36m\u001b[0m\n\u001b[1;33m    7name=\"python\"\u001b[0m\n\u001b[1;37m    ^\u001b[0m\n\u001b[1;31mSyntaxError\u001b[0m\u001b[1;31m:\u001b[0m invalid decimal literal\n"
     ]
    }
   ],
   "source": [
    "# Illegal Variables name\n",
    "7name=\"python\"\n",
    "name class=\"seven\"\n",
    "my var =124\n",
    "my-var=\"name\"\n",
    "print(7name)\n",
    "print(class)\n",
    "print(my var)\n",
    "print(my-var)"
   ]
  },
  {
   "cell_type": "code",
   "execution_count": 5,
   "metadata": {},
   "outputs": [
    {
     "name": "stdout",
     "output_type": "stream",
     "text": [
      "Python\n",
      "Java\n",
      "R-Languages\n"
     ]
    }
   ],
   "source": [
    "#Camel-case,Pascal-Case,Snake-Case\n",
    "yourCodingLanguage=\"Python\"\n",
    "YourCodingLanguage=\"Java\"\n",
    "your_coding_language=\"R-Languages\"\n",
    "print(yourCodingLanguage)\n",
    "print(YourCodingLanguage)\n",
    "print(your_coding_language)"
   ]
  },
  {
   "cell_type": "code",
   "execution_count": 6,
   "metadata": {},
   "outputs": [
    {
     "name": "stdout",
     "output_type": "stream",
     "text": [
      "Blue\n",
      "Yellow\n",
      "Red\n"
     ]
    }
   ],
   "source": [
    "# Many Values to Multiple Variables\n",
    "a,b,c=\"Blue\",\"Yellow\",\"Red\"\n",
    "print(a)\n",
    "print(b)\n",
    "print(c)"
   ]
  },
  {
   "cell_type": "code",
   "execution_count": 7,
   "metadata": {},
   "outputs": [
    {
     "ename": "ValueError",
     "evalue": "not enough values to unpack (expected 4, got 3)",
     "output_type": "error",
     "traceback": [
      "\u001b[1;31m---------------------------------------------------------------------------\u001b[0m",
      "\u001b[1;31mValueError\u001b[0m                                Traceback (most recent call last)",
      "Cell \u001b[1;32mIn[7], line 1\u001b[0m\n\u001b[1;32m----> 1\u001b[0m a,b,c,d\u001b[38;5;241m=\u001b[39m\u001b[38;5;124m\"\u001b[39m\u001b[38;5;124mBlue\u001b[39m\u001b[38;5;124m\"\u001b[39m,\u001b[38;5;124m\"\u001b[39m\u001b[38;5;124myellow\u001b[39m\u001b[38;5;124m\"\u001b[39m,\u001b[38;5;124m\"\u001b[39m\u001b[38;5;124mRed\u001b[39m\u001b[38;5;124m\"\u001b[39m\n\u001b[0;32m      2\u001b[0m \u001b[38;5;28mprint\u001b[39m(a,b,c,)\n",
      "\u001b[1;31mValueError\u001b[0m: not enough values to unpack (expected 4, got 3)"
     ]
    }
   ],
   "source": [
    "#if variable value is missing:\n",
    "a,b,c,d=\"Blue\",\"yellow\",\"Red\"\n",
    "print(a,b,c,)"
   ]
  },
  {
   "cell_type": "code",
   "execution_count": 10,
   "metadata": {},
   "outputs": [
    {
     "name": "stdout",
     "output_type": "stream",
     "text": [
      "Banana\n",
      "Banana\n",
      "Banana\n"
     ]
    }
   ],
   "source": [
    "#One value to multiple variables:\n",
    "x=y=z=\"Banana\"\n",
    "print(x)\n",
    "print(y)\n",
    "print(z)\n"
   ]
  },
  {
   "cell_type": "code",
   "execution_count": 12,
   "metadata": {},
   "outputs": [
    {
     "name": "stdout",
     "output_type": "stream",
     "text": [
      "pizza\n",
      "Burger\n",
      "Chinese\n",
      "italian\n"
     ]
    }
   ],
   "source": [
    "#Unpack A Collection:\n",
    "items=[\"pizza\",\"Burger\",\"Chinese\",\"italian\"]\n",
    "a,b,c,d=items\n",
    "print(a)\n",
    "print(b)\n",
    "print(c)\n",
    "print(d)"
   ]
  },
  {
   "cell_type": "code",
   "execution_count": 14,
   "metadata": {},
   "outputs": [
    {
     "name": "stdout",
     "output_type": "stream",
     "text": [
      "['Pizza', 'Burger', 'Chinese', 'italian'] ['Pizza', 'Burger', 'Chinese', 'italian'] ['Pizza', 'Burger', 'Chinese', 'italian'] ['Pizza', 'Burger', 'Chinese', 'italian']\n"
     ]
    }
   ],
   "source": [
    "#Unpack A collection:\n",
    "items=['Pizza','Burger','Chinese','italian']\n",
    "a=b=c=d=items\n",
    "print(a,b,c,d)"
   ]
  },
  {
   "cell_type": "code",
   "execution_count": 20,
   "metadata": {},
   "outputs": [
    {
     "name": "stdout",
     "output_type": "stream",
     "text": [
      "I live in pakistan 10\n",
      "Python is Awesome\n"
     ]
    }
   ],
   "source": [
    "# OutputVariable:\n",
    "a=10\n",
    "z=\"I live in pakistan\"\n",
    "print(z,a)\n",
    "a=\"Python\"\n",
    "b=\"is\"\n",
    "c=\"Awesome\"\n",
    "print(a,b,c)"
   ]
  },
  {
   "cell_type": "code",
   "execution_count": 28,
   "metadata": {},
   "outputs": [
    {
     "name": "stdout",
     "output_type": "stream",
     "text": [
      "Hello Python world \n"
     ]
    }
   ],
   "source": [
    "#Use of + operator in multiple variable:\n",
    "a=\"Hello \"\n",
    "b=\"Python \"\n",
    "c=\"world \"\n",
    "print(a + b + c)"
   ]
  },
  {
   "cell_type": "code",
   "execution_count": 29,
   "metadata": {},
   "outputs": [
    {
     "name": "stdout",
     "output_type": "stream",
     "text": [
      "188\n"
     ]
    }
   ],
   "source": [
    "#for number + work as a operator:\n",
    "a=99\n",
    "b=89\n",
    "print(a+b)"
   ]
  },
  {
   "cell_type": "code",
   "execution_count": 34,
   "metadata": {},
   "outputs": [
    {
     "ename": "TypeError",
     "evalue": "unsupported operand type(s) for +: 'int' and 'str'",
     "output_type": "error",
     "traceback": [
      "\u001b[1;31m---------------------------------------------------------------------------\u001b[0m",
      "\u001b[1;31mTypeError\u001b[0m                                 Traceback (most recent call last)",
      "Cell \u001b[1;32mIn[34], line 4\u001b[0m\n\u001b[0;32m      2\u001b[0m a\u001b[38;5;241m=\u001b[39m\u001b[38;5;241m89\u001b[39m\n\u001b[0;32m      3\u001b[0m b\u001b[38;5;241m=\u001b[39m\u001b[38;5;124m\"\u001b[39m\u001b[38;5;124mHello World\u001b[39m\u001b[38;5;124m\"\u001b[39m\n\u001b[1;32m----> 4\u001b[0m \u001b[38;5;28mprint\u001b[39m(\u001b[43ma\u001b[49m\u001b[38;5;241;43m+\u001b[39;49m\u001b[43mb\u001b[49m)\n\u001b[0;32m      5\u001b[0m \u001b[38;5;28mprint\u001b[39m(a,b)\n",
      "\u001b[1;31mTypeError\u001b[0m: unsupported operand type(s) for +: 'int' and 'str'"
     ]
    }
   ],
   "source": [
    "# + not add strings and numbers:\n",
    "a=89\n",
    "b=\"Hello World\"\n",
    "print(a+b)\n",
    "\n"
   ]
  },
  {
   "cell_type": "code",
   "execution_count": 36,
   "metadata": {},
   "outputs": [
    {
     "name": "stdout",
     "output_type": "stream",
     "text": [
      "89 Hello world\n"
     ]
    }
   ],
   "source": [
    "a=89\n",
    "b=\"Hello world\"\n",
    "print(a,b)"
   ]
  },
  {
   "cell_type": "code",
   "execution_count": 45,
   "metadata": {},
   "outputs": [
    {
     "name": "stdout",
     "output_type": "stream",
     "text": [
      "python Hello\n"
     ]
    }
   ],
   "source": [
    "#Global Variales:\n",
    "x=\"Hello\"\n",
    "def my_function():\n",
    "    print(\"python \"+x)\n",
    "y=my_function()"
   ]
  },
  {
   "cell_type": "code",
   "execution_count": 52,
   "metadata": {},
   "outputs": [
    {
     "name": "stdout",
     "output_type": "stream",
     "text": [
      "Who is Fantastic\n",
      "listen MY Country is amazing\n"
     ]
    }
   ],
   "source": [
    "#local Variables:\n",
    "x=\"MY Country is amazing\"\n",
    "def calculate():\n",
    "    x=\"Fantastic\"\n",
    "    print(\"Who is \"+ x)\n",
    "\n",
    "calculate()\n",
    "\n",
    "print(\"listen\",x)"
   ]
  },
  {
   "cell_type": "code",
   "execution_count": 55,
   "metadata": {},
   "outputs": [
    {
     "name": "stdout",
     "output_type": "stream",
     "text": [
      "Python Fantastic\n"
     ]
    }
   ],
   "source": [
    "#Global Keyword\n",
    "def calculate():\n",
    "    global x\n",
    "    x=\"Fantastic\"\n",
    "calculate()\n",
    "print(\"Python \"+x)"
   ]
  },
  {
   "cell_type": "code",
   "execution_count": 57,
   "metadata": {},
   "outputs": [
    {
     "name": "stdout",
     "output_type": "stream",
     "text": [
      "python\n"
     ]
    }
   ],
   "source": [
    "#Change Global Value inside the function:\n",
    "x=\"Amazing\"\n",
    "def Function():\n",
    "    global x\n",
    "    x=\"python\"\n",
    "Function()\n",
    "print(x)\n"
   ]
  },
  {
   "cell_type": "code",
   "execution_count": 63,
   "metadata": {},
   "outputs": [
    {
     "name": "stdout",
     "output_type": "stream",
     "text": [
      "<class 'str'>\n",
      "<class 'int'>\n",
      "<class 'float'>\n"
     ]
    }
   ],
   "source": [
    "#PYTHON DATATYPES:\n",
    "#Getting Data Types:\n",
    "x=\"Samra\"\n",
    "y=789\n",
    "z=89.00\n",
    "print(type(x))\n",
    "print(type(y))\n",
    "print(type(z))\n",
    "\n"
   ]
  },
  {
   "cell_type": "code",
   "execution_count": 73,
   "metadata": {},
   "outputs": [
    {
     "name": "stdout",
     "output_type": "stream",
     "text": [
      "<class 'str'> <class 'int'> <class 'float'> <class 'str'> <class 'list'> <class 'tuple'> <class 'frozenset'> <class 'range'> <class 'dict'> <class 'bool'> <class 'bytes'> <class 'bytearray'> <class 'memoryview'> <class 'set'> <class 'NoneType'>\n"
     ]
    }
   ],
   "source": [
    "#Getting all the types:\n",
    "x=\"country\"\n",
    "y=897\n",
    "z=90.8\n",
    "a='m7'\n",
    "b=[\"fruit\",\"color\",\"bakers\"]\n",
    "c=(\"hello\",\"Nice\")\n",
    "d=frozenset({\"myname\",\"helloworld\"})\n",
    "e=range(7)\n",
    "f={\"name\":\"hello\",\"extension\":\"world\"}\n",
    "h=True\n",
    "i=b\"hello\"\n",
    "j=bytearray(6)\n",
    "k=memoryview(bytes(6))\n",
    "l={123,234,56}\n",
    "m=None\n",
    "print(type(x),type(y),type(z),type(a),type(b),type(c),type(d),type(e),type(f),type(h),type(i),type(j),type(k),type(l),type(m))\n",
    "\n",
    "\n"
   ]
  },
  {
   "cell_type": "code",
   "execution_count": 80,
   "metadata": {},
   "outputs": [
    {
     "name": "stdout",
     "output_type": "stream",
     "text": [
      "1j ['fruit', 'color', 'bakers'] {'Nice', 'hello'} frozenset({'helloworld', 'myname'}) range(0, 7) {'name': 'hello', 'extension': 'world'} True b'hello' bytearray(b'\\x00\\x00\\x00\\x00\\x00\\x00') <memory at 0x00000280EBA02440> {56, 234, 123} None country 897 90.8\n"
     ]
    }
   ],
   "source": [
    "# Setting the Specific DataTypes using Const():\n",
    "x=str(\"country\")\n",
    "y=int(897)\n",
    "z=float(90.8)\n",
    "a=complex(1j)\n",
    "b=list((\"fruit\",\"color\",\"bakers\"))\n",
    "c=set((\"hello\",\"Nice\"))\n",
    "d=frozenset({\"myname\",\"helloworld\"})\n",
    "e=range(7)\n",
    "f=dict(name=\"hello\",extension=\"world\")\n",
    "h=bool(2)\n",
    "i=b\"hello\"\n",
    "j=bytearray(6)\n",
    "k=memoryview(bytes(6))\n",
    "l={123,234,56}\n",
    "m=None\n",
    "print(a,b,c,d,e,f,h,i,j,k,l,m,x,y,z)"
   ]
  },
  {
   "cell_type": "code",
   "execution_count": 83,
   "metadata": {},
   "outputs": [
    {
     "name": "stdout",
     "output_type": "stream",
     "text": [
      "<class 'int'> <class 'int'> <class 'int'>\n"
     ]
    }
   ],
   "source": [
    "# Python Numbers:\n",
    "#Int\n",
    "a=6\n",
    "b=3456889\n",
    "c=-309876\n",
    "print(type(a),type(b),type(c))"
   ]
  },
  {
   "cell_type": "code",
   "execution_count": 86,
   "metadata": {},
   "outputs": [
    {
     "name": "stdout",
     "output_type": "stream",
     "text": [
      "<class 'float'> <class 'float'> <class 'float'>\n",
      "<class 'float'> <class 'float'> <class 'float'>\n"
     ]
    }
   ],
   "source": [
    "#Float\n",
    "x=1.10\n",
    "y=1.1002\n",
    "z=000.09\n",
    "print(type(x),type(y),type(z))\n",
    "a=3455e98\n",
    "b=34E987\n",
    "c=-89.7e98\n",
    "print(type(a),type(b),type(c))\n"
   ]
  },
  {
   "cell_type": "code",
   "execution_count": 87,
   "metadata": {},
   "outputs": [
    {
     "name": "stdout",
     "output_type": "stream",
     "text": [
      "<class 'complex'>\n",
      "<class 'complex'>\n",
      "<class 'complex'>\n"
     ]
    }
   ],
   "source": [
    "#Complex Numbers:\n",
    "x=1j\n",
    "y=5+2j\n",
    "z=0+12j\n",
    "print(type(x))\n",
    "print(type(y))\n",
    "print(type(z))"
   ]
  },
  {
   "cell_type": "code",
   "execution_count": 92,
   "metadata": {},
   "outputs": [
    {
     "name": "stdout",
     "output_type": "stream",
     "text": [
      "<class 'float'>\n",
      "<class 'int'>\n",
      "<class 'complex'>\n"
     ]
    }
   ],
   "source": [
    "#Conversion in one type to another:\n",
    "x=12\n",
    "y=89.78\n",
    "z=5j\n",
    "c1=float(x)\n",
    "c2=int(y)\n",
    "c3=complex(x)\n",
    "print(type(c1))\n",
    "print(type(c2))\n",
    "print(type(c3))"
   ]
  },
  {
   "cell_type": "code",
   "execution_count": 96,
   "metadata": {},
   "outputs": [
    {
     "name": "stdout",
     "output_type": "stream",
     "text": [
      "5\n"
     ]
    }
   ],
   "source": [
    "#Random Numbers:\n",
    "import random\n",
    "print(random.randrange(1,10))"
   ]
  },
  {
   "cell_type": "code",
   "execution_count": 97,
   "metadata": {},
   "outputs": [
    {
     "name": "stdout",
     "output_type": "stream",
     "text": [
      "3 9 786\n"
     ]
    }
   ],
   "source": [
    "#Casting in int():\n",
    "x=int(3.0)\n",
    "y=int(9)\n",
    "z=int(786)\n",
    "print(x,y,z)"
   ]
  },
  {
   "cell_type": "code",
   "execution_count": 98,
   "metadata": {},
   "outputs": [
    {
     "name": "stdout",
     "output_type": "stream",
     "text": [
      "789.0 789.6789 1298.0\n"
     ]
    }
   ],
   "source": [
    "#Casting in Float():\n",
    "x=float(789)\n",
    "y=float(789.6789)\n",
    "z=float(1298)\n",
    "print(x,y,z)"
   ]
  },
  {
   "cell_type": "code",
   "execution_count": 99,
   "metadata": {},
   "outputs": [
    {
     "name": "stdout",
     "output_type": "stream",
     "text": [
      "987 9.87 Pakistan\n"
     ]
    }
   ],
   "source": [
    "#Casting in strings:\n",
    "x=str(987)\n",
    "y=str(9.87)\n",
    "z=str(\"Pakistan\")\n",
    "print(x,y,z)\n"
   ]
  },
  {
   "cell_type": "code",
   "execution_count": 100,
   "metadata": {},
   "outputs": [
    {
     "name": "stdout",
     "output_type": "stream",
     "text": [
      "Hello\n",
      "Hello\n"
     ]
    }
   ],
   "source": [
    "#Strings:\n",
    "print(\"Hello\")\n",
    "print('Hello')"
   ]
  },
  {
   "cell_type": "code",
   "execution_count": 101,
   "metadata": {},
   "outputs": [
    {
     "name": "stdout",
     "output_type": "stream",
     "text": [
      "HELLO my dear friend's\n",
      "NEW 'MACHESTER'\n",
      "Who I \"Am\"\n"
     ]
    }
   ],
   "source": [
    "#String inside a Double Quote\n",
    "print(\"HELLO my dear friend's\")\n",
    "print(\"NEW 'MACHESTER'\")\n",
    "print('Who I \"Am\"')"
   ]
  },
  {
   "cell_type": "code",
   "execution_count": 104,
   "metadata": {},
   "outputs": [
    {
     "name": "stdout",
     "output_type": "stream",
     "text": [
      "MY wORLD\n"
     ]
    }
   ],
   "source": [
    "#Assign String to a variable:\n",
    "x=\"MY wORLD\"\n",
    "print(x)"
   ]
  },
  {
   "cell_type": "code",
   "execution_count": 106,
   "metadata": {},
   "outputs": [
    {
     "name": "stdout",
     "output_type": "stream",
     "text": [
      "Practice makes man perfect Some people have curly brown hairs \n",
      "    who i am in this world lorum ipsum\n",
      "    you are right\n",
      "Practice makes man perfect Some people have curly brown hairs \n",
      "    who i am in this world lorum ipsum\n",
      "    you are right\n",
      "   \n"
     ]
    }
   ],
   "source": [
    "#Multline String:\n",
    "x=\"\"\"Practice makes man perfect Some people have curly brown hairs \n",
    "    who i am in this world lorum ipsum\n",
    "    you are right\"\"\"\n",
    "y='''Practice makes man perfect Some people have curly brown hairs \n",
    "    who i am in this world lorum ipsum\n",
    "    you are right\n",
    "   '''\n",
    "print(x)\n",
    "print(y)"
   ]
  },
  {
   "cell_type": "code",
   "execution_count": 108,
   "metadata": {},
   "outputs": [
    {
     "name": "stdout",
     "output_type": "stream",
     "text": [
      "n\n"
     ]
    }
   ],
   "source": [
    "# Strings as Array:\n",
    "a=\"Pakistan\"\n",
    "print(a[7])"
   ]
  },
  {
   "cell_type": "code",
   "execution_count": 118,
   "metadata": {},
   "outputs": [
    {
     "name": "stdout",
     "output_type": "stream",
     "text": [
      "F\n",
      "r\n",
      "u\n",
      "i\n",
      "t\n",
      "s\n",
      "I\n",
      "s\n",
      "l\n",
      "a\n",
      "m\n",
      "a\n",
      "b\n",
      "a\n",
      "d\n",
      "7\n"
     ]
    }
   ],
   "source": [
    "#String looping:\n",
    "for x in \"Fruits\":\n",
    " print(x)\n",
    "for x in \"Islamabad\":\n",
    "   print((x))\n",
    "y=\"Karachi\"\n",
    "print(len(y))"
   ]
  },
  {
   "cell_type": "code",
   "execution_count": 123,
   "metadata": {},
   "outputs": [
    {
     "name": "stdout",
     "output_type": "stream",
     "text": [
      "False\n",
      "True\n"
     ]
    }
   ],
   "source": [
    "# Check Strings:\n",
    "x=\" Im free for now to hear you\"\n",
    "print(\"who\" in x)\n",
    "#check not in string:\n",
    "print(\"saba\"not in x)"
   ]
  },
  {
   "cell_type": "code",
   "execution_count": 129,
   "metadata": {},
   "outputs": [
    {
     "name": "stdout",
     "output_type": "stream",
     "text": [
      "lo\n",
      "lo World\n",
      "Hello \n",
      "W\n"
     ]
    }
   ],
   "source": [
    "#String Slicing:\n",
    "x=\"Hello World\"\n",
    "print(x[3:5])\n",
    "print(x[3:])\n",
    "print(x[:6])\n",
    "print(x[-5:-4])"
   ]
  },
  {
   "cell_type": "code",
   "execution_count": 135,
   "metadata": {},
   "outputs": [
    {
     "name": "stdout",
     "output_type": "stream",
     "text": [
      "HELLO WORLD\n",
      "hello world\n",
      "Hello World\n",
      "['Hello World']\n",
      "Heddo Wordd\n"
     ]
    }
   ],
   "source": [
    "#Modify Strings:\n",
    "x=\"Hello World\"\n",
    "print(x.upper())\n",
    "print(x.lower())\n",
    "print(x.strip())\n",
    "print(x.split(\",\"))\n",
    "print(x.replace(\"l\",\"d\"))"
   ]
  },
  {
   "cell_type": "code",
   "execution_count": 147,
   "metadata": {},
   "outputs": [
    {
     "name": "stdout",
     "output_type": "stream",
     "text": [
      "Python is Amazing \n",
      "Python  is Amazing \n"
     ]
    }
   ],
   "source": [
    "#String Conactenation:\n",
    "a=\"Python \"\n",
    "b=\"is \"\n",
    "c=\"Amazing \"\n",
    "d=a+b+c\n",
    "print(d)\n",
    "print( a +\" \" + b+ \"\"+c)"
   ]
  },
  {
   "cell_type": "code",
   "execution_count": 156,
   "metadata": {},
   "outputs": [
    {
     "name": "stdout",
     "output_type": "stream",
     "text": [
      "I am a girl18\n",
      "I am a girl18years old\n",
      "I have a car of 59.00000with best condition\n",
      "oh wow you know math1960\n"
     ]
    }
   ],
   "source": [
    "#Format Strings:\n",
    "age=18\n",
    "txt=f\"I am a girl{age}\"\n",
    "# Add PlaceHolders:\n",
    "var=f\"I am a girl{age}years old\"\n",
    "print(txt)\n",
    "print(var)\n",
    "#Add Modifiers:\n",
    "price=59\n",
    "text=f\"I have a car of {price:.5f}with best condition\"\n",
    "math=f\"oh wow you know math{20*98}\"\n",
    "print(text)\n",
    "print(math)\n"
   ]
  },
  {
   "cell_type": "code",
   "execution_count": 169,
   "metadata": {},
   "outputs": [
    {
     "name": "stdout",
     "output_type": "stream",
     "text": [
      "oh's nice you are right\n",
      "oh nice what are you doing\\\n",
      "Manchester\n",
      "University\n",
      "ManchesterUniversity universitypunjab\n",
      "Hello\n"
     ]
    }
   ],
   "source": [
    "#Escape Sequence:\n",
    "text='oh\\'s nice you are right'\n",
    "print(text)\n",
    "text2=\"oh nice what are you doing\\\\\"\n",
    "print(text2)\n",
    "text3=\"Manchester\\nUniversity\"\n",
    "print(text3)\n",
    "text4=\"\\rManchesterUniversity\"\n",
    "text5=\"university\\t\\bpunjab\"\n",
    "print(text4,text5)\n",
    "txt = \"\\x48\\x65\\x6c\\x6c\\x6f\"\n",
    "print(txt) "
   ]
  },
  {
   "cell_type": "code",
   "execution_count": 170,
   "metadata": {},
   "outputs": [
    {
     "name": "stdout",
     "output_type": "stream",
     "text": [
      "True\n",
      "False\n",
      "True\n"
     ]
    }
   ],
   "source": [
    "#Boolean Values:\n",
    "print(10>6)\n",
    "print(10==9)\n",
    "print(7<=9)\n"
   ]
  },
  {
   "cell_type": "code",
   "execution_count": 176,
   "metadata": {},
   "outputs": [
    {
     "name": "stdout",
     "output_type": "stream",
     "text": [
      "x is less than 100\n"
     ]
    }
   ],
   "source": [
    "#if and Else Condition\n",
    "x=897\n",
    "y=45\n",
    "if y>x:\n",
    "    print(\"y is greater than 100\")\n",
    "else:\n",
    "\n",
    "    print(\"x is less than 100\")"
   ]
  },
  {
   "cell_type": "code",
   "execution_count": 179,
   "metadata": {},
   "outputs": [
    {
     "name": "stdout",
     "output_type": "stream",
     "text": [
      "True\n",
      "True\n",
      "False\n"
     ]
    }
   ],
   "source": [
    "# Values and Variables\n",
    "print(bool(\"hello\"))\n",
    "print(bool(908654))\n",
    "print(bool(0))"
   ]
  },
  {
   "cell_type": "code",
   "execution_count": 193,
   "metadata": {},
   "outputs": [
    {
     "name": "stdout",
     "output_type": "stream",
     "text": [
      "True\n",
      "True\n"
     ]
    }
   ],
   "source": [
    "#Most values are true:\n",
    "print(bool(123))\n",
    "print(bool([\"apple\", \"banana\", \"orange\"]))\n"
   ]
  },
  {
   "cell_type": "code",
   "execution_count": 192,
   "metadata": {},
   "outputs": [
    {
     "name": "stdout",
     "output_type": "stream",
     "text": [
      "True\n",
      "False\n",
      "False\n",
      "False\n",
      "False\n",
      "False\n"
     ]
    }
   ],
   "source": [
    "#most values are false:\n",
    "print(bool(\"False\"))\n",
    "print (bool(()))\n",
    "print (bool(0))\n",
    "print (bool([]))\n",
    "print (bool({}))\n",
    "print (bool(\"\"))"
   ]
  },
  {
   "cell_type": "code",
   "execution_count": 198,
   "metadata": {},
   "outputs": [
    {
     "name": "stdout",
     "output_type": "stream",
     "text": [
      "True\n"
     ]
    }
   ],
   "source": [
    "#def_len function\n",
    "class my_class():\n",
    " def _len_(self):\n",
    "  return 0\n",
    "    \n",
    "    \n",
    "    \n",
    "obj=my_class()\n",
    "print(bool(obj))\n"
   ]
  },
  {
   "cell_type": "code",
   "execution_count": 200,
   "metadata": {},
   "outputs": [
    {
     "name": "stdout",
     "output_type": "stream",
     "text": [
      "True\n",
      "Yes\n"
     ]
    }
   ],
   "source": [
    "#function returns true:\n",
    "def sum():\n",
    "    return True\n",
    "sum()\n",
    "print(bool(sum()))\n",
    "if sum():\n",
    "    print(\"Yes\")\n",
    "else:\n",
    "    print(\"No\")\n"
   ]
  },
  {
   "cell_type": "code",
   "execution_count": 239,
   "metadata": {},
   "outputs": [
    {
     "name": "stdout",
     "output_type": "stream",
     "text": [
      "True\n"
     ]
    }
   ],
   "source": [
    "#Check datatype:\n",
    "x=10\n",
    "print(isinstance( x, int))"
   ]
  },
  {
   "cell_type": "code",
   "execution_count": 202,
   "metadata": {},
   "outputs": [
    {
     "name": "stdout",
     "output_type": "stream",
     "text": [
      "15\n"
     ]
    }
   ],
   "source": [
    "# Operators:\n",
    "print(10+5)"
   ]
  },
  {
   "cell_type": "code",
   "execution_count": 207,
   "metadata": {},
   "outputs": [
    {
     "name": "stdout",
     "output_type": "stream",
     "text": [
      "15\n",
      "0\n",
      "9765625\n",
      "-5\n",
      "5\n"
     ]
    }
   ],
   "source": [
    "#Python Arthematic Operator:\n",
    "x=5\n",
    "y=10\n",
    "print(x+y)\n",
    "print(x//y)\n",
    "print(x**y)\n",
    "print(x-y)\n",
    "print(x%y)"
   ]
  },
  {
   "cell_type": "code",
   "execution_count": 217,
   "metadata": {},
   "outputs": [
    {
     "name": "stdout",
     "output_type": "stream",
     "text": [
      "50\n",
      "125\n",
      "5\n",
      "3\n"
     ]
    }
   ],
   "source": [
    "#Python Assignment Operators:\n",
    "x=5\n",
    "y=10\n",
    "print(x*y)\n",
    "print(x**3)\n",
    "print(x%10)\n",
    "print(x:=3)"
   ]
  },
  {
   "cell_type": "code",
   "execution_count": 223,
   "metadata": {},
   "outputs": [
    {
     "name": "stdout",
     "output_type": "stream",
     "text": [
      "False\n",
      "False\n",
      "True\n",
      "True\n",
      "True\n",
      "False\n"
     ]
    }
   ],
   "source": [
    "#python Comparison Operator:\n",
    "x=50\n",
    "y=100\n",
    "print(x>=100)\n",
    "print(x==y)\n",
    "print(y!=x)\n",
    "print(x<y)\n",
    "print(y>x)\n",
    "print(x<=8)"
   ]
  },
  {
   "cell_type": "code",
   "execution_count": 235,
   "metadata": {},
   "outputs": [
    {
     "name": "stdout",
     "output_type": "stream",
     "text": [
      "true\n",
      "False\n"
     ]
    }
   ],
   "source": [
    "#Python Logical Operator:\n",
    "y=10\n",
    "if y>3 and y<7:\n",
    "  print(\"true\")\n",
    "if y>2 or y<9:\n",
    "   print(\"true\")\n",
    "\n",
    "x=5\n",
    "print(not (x>3 and y>6))\n"
   ]
  },
  {
   "cell_type": "code",
   "execution_count": 248,
   "metadata": {},
   "outputs": [
    {
     "name": "stdout",
     "output_type": "stream",
     "text": [
      "True\n",
      "False\n",
      "True\n",
      "False\n"
     ]
    }
   ],
   "source": [
    "# Python Identity Operator:\n",
    "x=[\"red\",\"yellow\",\"green\"]\n",
    "y=[\"red\",\"yellow\",\"green\"]\n",
    "z=x=y\n",
    "print(x is z)\n",
    "print(x is not z)\n",
    "print(z is y)\n",
    "print(x!=y)"
   ]
  },
  {
   "cell_type": "code",
   "execution_count": 252,
   "metadata": {},
   "outputs": [
    {
     "name": "stdout",
     "output_type": "stream",
     "text": [
      "True\n",
      "False\n"
     ]
    }
   ],
   "source": [
    "#Python Membership Operator:\n",
    "x=[\"red\",\"yellow\",\"green\"]\n",
    "y=[\"red\",\"yellow\",\"green\"]\n",
    "\n",
    "print(\"green\" in x)\n",
    "print(\"green\"not in x)\n"
   ]
  },
  {
   "cell_type": "code",
   "execution_count": 253,
   "metadata": {},
   "outputs": [
    {
     "name": "stdout",
     "output_type": "stream",
     "text": [
      "14\n"
     ]
    }
   ],
   "source": [
    "#Python Bitwise Operator:\n",
    "x=10\n",
    "y=6\n",
    "print(x|6)"
   ]
  },
  {
   "cell_type": "code",
   "execution_count": 254,
   "metadata": {},
   "outputs": [
    {
     "name": "stdout",
     "output_type": "stream",
     "text": [
      "3\n"
     ]
    }
   ],
   "source": [
    "#precdence:\n",
    "print((6+3)-(9-3))"
   ]
  },
  {
   "cell_type": "code",
   "execution_count": 255,
   "metadata": {},
   "outputs": [
    {
     "name": "stdout",
     "output_type": "stream",
     "text": [
      "9960\n"
     ]
    }
   ],
   "source": [
    "print(200*50-40)"
   ]
  },
  {
   "cell_type": "code",
   "execution_count": null,
   "metadata": {},
   "outputs": [],
   "source": []
  }
 ],
 "metadata": {
  "kernelspec": {
   "display_name": "venv",
   "language": "python",
   "name": "python3"
  },
  "language_info": {
   "codemirror_mode": {
    "name": "ipython",
    "version": 3
   },
   "file_extension": ".py",
   "mimetype": "text/x-python",
   "name": "python",
   "nbconvert_exporter": "python",
   "pygments_lexer": "ipython3",
   "version": "3.12.6"
  }
 },
 "nbformat": 4,
 "nbformat_minor": 2
}
