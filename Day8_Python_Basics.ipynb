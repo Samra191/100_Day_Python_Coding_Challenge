{
 "cells": [
  {
   "cell_type": "code",
   "execution_count": 4,
   "metadata": {},
   "outputs": [],
   "source": [
    "data={\n",
    "    \"name\":\"Erina\",\n",
    "    \"class\":\"BSCS\",\n",
    "    \"Year\":2012\n",
    "}\n",
    "with open(\"myfile.json\",\"w\")as f:\n",
    "    json.dump(data,f)"
   ]
  },
  {
   "cell_type": "code",
   "execution_count": 14,
   "metadata": {},
   "outputs": [
    {
     "name": "stdout",
     "output_type": "stream",
     "text": [
      "CSV file 'myfile.csv' created successfully.\n"
     ]
    }
   ],
   "source": [
    "import csv\n",
    "\n",
    "# Data to be written into the CSV file\n",
    "data = [\n",
    "    {\"name\": \"Erina\", \"class\": \"BSCS\", \"Year\": 2012},\n",
    "    {\"name\": \"Alex\", \"class\": \"BSIT\", \"Year\": 2013},\n",
    "    {\"name\": \"Maria\", \"class\": \"BSSE\", \"Year\": 2014}\n",
    "]\n",
    "\n",
    "# File name for the CSV\n",
    "csv_file = \"myfile.csv\"\n",
    "\n",
    "# Open the CSV file for writing\n",
    "with open(csv_file, mode=\"w\", newline='') as f:\n",
    "    # Create a CSV writer object\n",
    "    writer = csv.DictWriter(f, fieldnames=data[0].keys())\n",
    "    \n",
    "    # Write the header (column names)\n",
    "    writer.writeheader()\n",
    "    \n",
    "    # Write the rows (data)\n",
    "    writer.writerows(data)\n",
    "\n",
    "print(f\"CSV file '{csv_file}' created successfully.\")"
   ]
  },
  {
   "cell_type": "code",
   "execution_count": 19,
   "metadata": {},
   "outputs": [],
   "source": [
    "# CSV TO JSON:\n",
    "\n",
    "import csv\n",
    "import json\n",
    "\n",
    "# Function to convert CSV to JSON\n",
    "def make_json(csvFilePath, jsonFilePath):\n",
    "    data = {}\n",
    "    \n",
    "    # Open the CSV file for reading\n",
    "    with open(csvFilePath, encoding='utf-8') as csvf:\n",
    "        # Create a CSV reader object\n",
    "        csvReader = csv.DictReader(csvf)\n",
    "\n",
    "        # Convert each row into a dictionary and add it to 'data'\n",
    "        for rows in csvReader:\n",
    "            # Use 'name' (or another existing column) as the primary key\n",
    "            key = rows['name']\n",
    "            data[key] = rows\n",
    "\n",
    "    # Open a JSON writer and use json.dump() to write the data to a file\n",
    "    with open(jsonFilePath, 'w', encoding='utf-8') as jsonf:\n",
    "        json.dump(data, jsonf, indent=4)\n",
    "\n",
    "# Paths to the CSV and JSON files\n",
    "csvFilePath = r'myfile.csv'\n",
    "jsonFilePath = r'myfile.json'\n",
    "\n",
    "# Call the function to convert CSV to JSON\n",
    "make_json(csvFilePath, jsonFilePath)"
   ]
  },
  {
   "cell_type": "code",
   "execution_count": null,
   "metadata": {},
   "outputs": [],
   "source": []
  }
 ],
 "metadata": {
  "kernelspec": {
   "display_name": "venv",
   "language": "python",
   "name": "python3"
  },
  "language_info": {
   "codemirror_mode": {
    "name": "ipython",
    "version": 3
   },
   "file_extension": ".py",
   "mimetype": "text/x-python",
   "name": "python",
   "nbconvert_exporter": "python",
   "pygments_lexer": "ipython3",
   "version": "3.12.6"
  }
 },
 "nbformat": 4,
 "nbformat_minor": 2
}
