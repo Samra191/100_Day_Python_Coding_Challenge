{
 "cells": [
  {
   "cell_type": "markdown",
   "metadata": {},
   "source": [
    "# Python Inheritence"
   ]
  },
  {
   "cell_type": "code",
   "execution_count": 2,
   "metadata": {},
   "outputs": [
    {
     "name": "stdout",
     "output_type": "stream",
     "text": [
      "Samra Ashraf\n"
     ]
    }
   ],
   "source": [
    "class Person:\n",
    "    def __init__ (self,fname,lname):\n",
    "      self.fname=fname\n",
    "      self.lname=lname\n",
    "    def myfunc(self):\n",
    "        print(self.fname,self.lname)\n",
    "    \n",
    "p1=Person(\"Samra\",\"Ashraf\")\n",
    "p1.myfunc()"
   ]
  },
  {
   "cell_type": "code",
   "execution_count": 4,
   "metadata": {},
   "outputs": [
    {
     "name": "stdout",
     "output_type": "stream",
     "text": [
      "Ayesha Fatima\n"
     ]
    }
   ],
   "source": [
    "#Child Class:\n",
    "class Person:\n",
    "   def __init__ (self,fname,lname):\n",
    "      self.fname=fname\n",
    "      self.lname=lname\n",
    "   def myfunc(self):\n",
    "         print(self.fname,self.lname)\n",
    "class Student(Person):\n",
    "       pass\n",
    "x=Student(\"Ayesha\",\"Fatima\")\n",
    "x.myfunc()\n",
    "       \n"
   ]
  },
  {
   "cell_type": "code",
   "execution_count": 1,
   "metadata": {},
   "outputs": [
    {
     "ename": "IndentationError",
     "evalue": "unexpected indent (4078020523.py, line 11)",
     "output_type": "error",
     "traceback": [
      "\u001b[1;36m  Cell \u001b[1;32mIn[1], line 11\u001b[1;36m\u001b[0m\n\u001b[1;33m    def welcome(self):\u001b[0m\n\u001b[1;37m    ^\u001b[0m\n\u001b[1;31mIndentationError\u001b[0m\u001b[1;31m:\u001b[0m unexpected indent\n"
     ]
    }
   ],
   "source": [
    "#Child Class Init Function:\n",
    "class person:\n",
    "  def __init__(self,fname,lname):\n",
    "    self.fname=fname\n",
    "    self.lname=lname\n",
    "  def myfunc(self):\n",
    "    print(self.fname,self.lname)\n",
    "class Student(Person):\n",
    "  def __init__(self,fname,lname):\n",
    "    person.__init__(self,fname,lname)\n",
    "x=Student(\"Samra\",\"Fatima\")\n",
    "x.myfunc()\n",
    "\n",
    "\n"
   ]
  },
  {
   "cell_type": "code",
   "execution_count": 2,
   "metadata": {},
   "outputs": [
    {
     "ename": "NameError",
     "evalue": "name 'Person' is not defined",
     "output_type": "error",
     "traceback": [
      "\u001b[1;31m---------------------------------------------------------------------------\u001b[0m",
      "\u001b[1;31mNameError\u001b[0m                                 Traceback (most recent call last)",
      "Cell \u001b[1;32mIn[2], line 9\u001b[0m\n\u001b[0;32m      6\u001b[0m   \u001b[38;5;28;01mdef\u001b[39;00m \u001b[38;5;21mmyfunc\u001b[39m(\u001b[38;5;28mself\u001b[39m):\n\u001b[0;32m      8\u001b[0m     \u001b[38;5;28mprint\u001b[39m(\u001b[38;5;28mself\u001b[39m\u001b[38;5;241m.\u001b[39mfname,\u001b[38;5;28mself\u001b[39m\u001b[38;5;241m.\u001b[39mlname)\n\u001b[1;32m----> 9\u001b[0m \u001b[38;5;28;01mclass\u001b[39;00m \u001b[38;5;21;01mStudent\u001b[39;00m(\u001b[43mPerson\u001b[49m):\n\u001b[0;32m     10\u001b[0m   \u001b[38;5;28;01mdef\u001b[39;00m \u001b[38;5;21m__init__\u001b[39m(\u001b[38;5;28mself\u001b[39m,fname,lname):\n\u001b[0;32m     11\u001b[0m     \u001b[38;5;28msuper\u001b[39m()\u001b[38;5;241m.\u001b[39m\u001b[38;5;21m__init__\u001b[39m(fname,lname)\n",
      "\u001b[1;31mNameError\u001b[0m: name 'Person' is not defined"
     ]
    }
   ],
   "source": [
    "#Use of Super function and add property :\n",
    "class person:\n",
    "  def __init__(self,fname,lname):\n",
    "    self.fname=fname\n",
    "    self.lname=lname\n",
    "  def myfunc(self):\n",
    "\n",
    "    print(self.fname,self.lname)\n",
    "class Student(Person):\n",
    "  def __init__(self,fname,lname):\n",
    "    super().__init__(fname,lname)\n",
    "    self.gradyear=2019\n",
    "def welcome(self):\n",
    "    print(\"Welcome\", self.firstname, self.lastname, \"to the class of\", self.graduationyear)\n",
    "\n",
    "x=Student(\"Samra\",\"Fatima\")\n",
    "print(x.gradyear)\n"
   ]
  },
  {
   "cell_type": "code",
   "execution_count": 18,
   "metadata": {},
   "outputs": [
    {
     "name": "stdout",
     "output_type": "stream",
     "text": [
      "Welcome Samra Fatima to the class of 2024\n"
     ]
    }
   ],
   "source": [
    "#Use of Super function as a variable:\n",
    "class person:\n",
    "  def __init__(self,fname,lname):\n",
    "    self.fname=fname\n",
    "    self.lname=lname\n",
    "  def myfunc(self):\n",
    "    print(\"My name is Samra\")\n",
    "\n",
    "    print(self.fname,self.lname)\n",
    "class Student(person):\n",
    "  def __init__(self,fname,lname,year):\n",
    "    super().__init__(fname, lname)\n",
    "    self.gradyear=year\n",
    "  def newmethod(self):\n",
    "    print(\"Welcome\", self.fname, self.lname, \"to the class of\", self.gradyear)\n",
    "\n",
    "\n",
    "x=Student(\"Samra\",\"Fatima\",2024)\n",
    "x.newmethod()"
   ]
  },
  {
   "cell_type": "markdown",
   "metadata": {},
   "source": [
    "# Python Iterator:\n"
   ]
  },
  {
   "cell_type": "code",
   "execution_count": 4,
   "metadata": {},
   "outputs": [
    {
     "name": "stdout",
     "output_type": "stream",
     "text": [
      "Fruits\n",
      "vegetables\n",
      "Chines\n"
     ]
    }
   ],
   "source": [
    "#Iter Objects:\n",
    "mylist=(\"Fruits\",\"vegetables\",\"Chines\")\n",
    "myval=iter(mylist)\n",
    "print(next(myval))\n",
    "print(next(myval))\n",
    "print(next(myval))\n"
   ]
  },
  {
   "cell_type": "code",
   "execution_count": 6,
   "metadata": {},
   "outputs": [
    {
     "name": "stdout",
     "output_type": "stream",
     "text": [
      "B\n",
      "a\n",
      "n\n",
      "a\n",
      "n\n"
     ]
    }
   ],
   "source": [
    "#itertable Objects:\n",
    "myString=\"Banana\"\n",
    "myval=iter(myString)\n",
    "print(next(myval))\n",
    "print(next(myval))\n",
    "print(next(myval))\n",
    "print(next(myval))\n",
    "print(next(myval))"
   ]
  },
  {
   "cell_type": "code",
   "execution_count": 7,
   "metadata": {},
   "outputs": [
    {
     "name": "stdout",
     "output_type": "stream",
     "text": [
      "fruits\n",
      "Vegetables\n",
      "Chinese\n"
     ]
    }
   ],
   "source": [
    "#Looping through strings:\n",
    "sets=('fruits','Vegetables','Chinese')\n",
    "for x in sets:\n",
    "    print(x)"
   ]
  },
  {
   "cell_type": "code",
   "execution_count": 8,
   "metadata": {},
   "outputs": [
    {
     "name": "stdout",
     "output_type": "stream",
     "text": [
      "O\n",
      "r\n",
      "a\n",
      "n\n",
      "g\n",
      "e\n"
     ]
    }
   ],
   "source": [
    "# Loop in string:\n",
    "Fruit=\"Orange\"\n",
    "for x in Fruit:\n",
    "    print(x)"
   ]
  },
  {
   "cell_type": "code",
   "execution_count": 12,
   "metadata": {},
   "outputs": [
    {
     "name": "stdout",
     "output_type": "stream",
     "text": [
      "1\n",
      "2\n",
      "3\n"
     ]
    }
   ],
   "source": [
    "#Use of __iter__ and __next__:\n",
    "class Person:\n",
    "    def __iter__(self):\n",
    "        self.a=1\n",
    "        return self\n",
    "    def __next__(self):\n",
    "        x=self.a\n",
    "        self.a=self.a+1\n",
    "        return x\n",
    "myvar=Person()\n",
    "iterator=iter(myvar)\n",
    "print(next(iterator))\n",
    "print(next(iterator))\n",
    "print(next(iterator))\n",
    "        "
   ]
  },
  {
   "cell_type": "code",
   "execution_count": 23,
   "metadata": {},
   "outputs": [
    {
     "name": "stdout",
     "output_type": "stream",
     "text": [
      "1\n",
      "6\n",
      "11\n",
      "16\n"
     ]
    }
   ],
   "source": [
    "#Stop Iteration:\n",
    "class MyNumbers:\n",
    "  def __iter__(self):\n",
    "    self.a = 1\n",
    "    return self\n",
    "\n",
    "  def __next__(self):\n",
    "    if self.a <= 20:\n",
    "      x = self.a\n",
    "      self.a += 5\n",
    "      return x\n",
    "    else:\n",
    "      raise StopIteration\n",
    "\n",
    "myclass = MyNumbers()\n",
    "myiter = iter(myclass)\n",
    "for x in myiter:\n",
    "   print(x)\n",
    "\n",
    "   \n"
   ]
  },
  {
   "cell_type": "markdown",
   "metadata": {},
   "source": [
    "# Polymorphism:\n"
   ]
  },
  {
   "cell_type": "code",
   "execution_count": 24,
   "metadata": {},
   "outputs": [
    {
     "name": "stdout",
     "output_type": "stream",
     "text": [
      "19\n",
      "4\n",
      "3\n"
     ]
    }
   ],
   "source": [
    "#Use of len function for string:\n",
    "x=\"Hello to the future\"\n",
    "print(len(x))\n",
    "#Use of len for tuple:\n",
    "tuple=('samra','ayesha','fatima','aimen')\n",
    "print(len(tuple))\n",
    "#Use of Dictionaries:\n",
    "dict={\"Student1\":2024,\"Student2\":2025,\"Student3\":2023}\n",
    "print(len(dict))"
   ]
  },
  {
   "cell_type": "code",
   "execution_count": 30,
   "metadata": {},
   "outputs": [
    {
     "name": "stdout",
     "output_type": "stream",
     "text": [
      "Aeroplane\n",
      "Car\n",
      "Jungle\n"
     ]
    }
   ],
   "source": [
    "#Class Polymorphism:\n",
    "class Person:\n",
    "  def __init__(self,fname,lname):\n",
    "    self.fname=fname\n",
    "    self.lname=lname\n",
    "  def rider(self):\n",
    "    print(\"Aeroplane\")\n",
    "class Animal:\n",
    "  def __init__(self,fname,lname):\n",
    "    self.fname=fname\n",
    "    self.lname=lname\n",
    "  def rider(self):\n",
    "    print(\"Car\")\n",
    "class Things:\n",
    "   def __init__ (self,fname,lname):\n",
    "     self.fname=fname\n",
    "     self.lname=lname\n",
    "   def rider(self):\n",
    "     print(\"Jungle\")\n",
    "p1=Person(\"fatima\",\"zainab\")\n",
    "a1=Animal(\"LION\",\"Hen\")\n",
    "T1=Things(\"anima\",\"flowers\")\n",
    "for x in (p1,a1,T1):\n",
    "   x.rider()\n",
    "\n",
    "     \n",
    "    \n",
    "\n",
    "\n",
    "\n",
    "\n"
   ]
  },
  {
   "cell_type": "code",
   "execution_count": 35,
   "metadata": {},
   "outputs": [
    {
     "name": "stdout",
     "output_type": "stream",
     "text": [
      "Fairy\n",
      "Tale\n",
      "Hello to the word\n",
      "Beauty\n",
      "Beast\n",
      "Hello to the word\n",
      "Future\n",
      "Yellow\n",
      "Fly\n",
      "Beautiful\n",
      "World\n",
      "High\n"
     ]
    }
   ],
   "source": [
    "#Use of Inheritence as a parent class:\n",
    "class Vehicle:\n",
    "    def __init__ (self,lname,fname):\n",
    "        self.fname=fname\n",
    "        self.lname=lname\n",
    "    def move(self):\n",
    "        print(\"Hello to the word\")\n",
    "class car(Vehicle):\n",
    "    pass\n",
    "class Broad(Vehicle):\n",
    "    def move(self):\n",
    "        print(\"Fly\")\n",
    "class World(Vehicle):\n",
    "    def move(self):\n",
    "       print(\"High\")\n",
    "V1=Vehicle(\"Fairy\",\"Tale\")\n",
    "c1=car(\"Beauty\",\"Beast\")\n",
    "B1=Broad(\"Future\",\"Yellow\")\n",
    "w1=World(\"Beautiful\",\"World\")\n",
    "for x in (V1,c1,B1,w1):\n",
    "    print(x.lname)\n",
    "    print(x.fname)\n",
    "    x.move()\n",
    "    \n"
   ]
  },
  {
   "cell_type": "code",
   "execution_count": null,
   "metadata": {},
   "outputs": [],
   "source": []
  }
 ],
 "metadata": {
  "kernelspec": {
   "display_name": "Python 3",
   "language": "python",
   "name": "python3"
  },
  "language_info": {
   "codemirror_mode": {
    "name": "ipython",
    "version": 3
   },
   "file_extension": ".py",
   "mimetype": "text/x-python",
   "name": "python",
   "nbconvert_exporter": "python",
   "pygments_lexer": "ipython3",
   "version": "3.12.6"
  }
 },
 "nbformat": 4,
 "nbformat_minor": 2
}
