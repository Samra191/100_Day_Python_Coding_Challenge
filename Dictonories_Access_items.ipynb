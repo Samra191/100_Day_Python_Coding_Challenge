{
 "cells": [
  {
   "cell_type": "code",
   "execution_count": 5,
   "id": "02694b0d-9678-4113-af05-542eea5474e5",
   "metadata": {},
   "outputs": [
    {
     "name": "stdout",
     "output_type": "stream",
     "text": [
      "{'model': 'car', 'Tyre': 'Road', 'Rider': 'carolla'}\n"
     ]
    }
   ],
   "source": [
    "thisdict={\n",
    "    \"model\":\"car\",\n",
    "    \"Tyre\":\"Road\",\n",
    "    \"Rider\":\"carolla\"\n",
    "}\n",
    "print(thisdict)"
   ]
  },
  {
   "cell_type": "code",
   "execution_count": null,
   "id": "86d9d3cc-518c-41f2-a754-533a481ed954",
   "metadata": {},
   "outputs": [],
   "source": [
    "Dictionaries:"
   ]
  },
  {
   "cell_type": "code",
   "execution_count": 11,
   "id": "5491f856-c975-40a7-be61-75be86c78eef",
   "metadata": {},
   "outputs": [
    {
     "name": "stdout",
     "output_type": "stream",
     "text": [
      "road\n"
     ]
    }
   ],
   "source": [
    "thisdict={\n",
    "    \"model\":\"car\",\n",
    "    \"tyre\":\"road\",\n",
    "    \"Rider\":\"carolla\"\n",
    "}\n",
    "print(thisdict[\"tyre\"])"
   ]
  },
  {
   "cell_type": "code",
   "execution_count": 19,
   "id": "d24f17ea-1b0c-4bd0-aecb-12e582ed54e0",
   "metadata": {},
   "outputs": [
    {
     "name": "stdout",
     "output_type": "stream",
     "text": [
      "3\n"
     ]
    }
   ],
   "source": [
    "thisdict={\n",
    "    \"model\":\"car\",\n",
    "    \"tyre\":\"road\",\n",
    "    \"rider\":\"carolla\",\n",
    "    \"model\":\"Land_Cruiser\"\n",
    "}\n",
    "print(len(thisdict))"
   ]
  },
  {
   "cell_type": "code",
   "execution_count": 21,
   "id": "9630ac0a-c44f-42f7-a4e6-6e3de7b174f9",
   "metadata": {},
   "outputs": [
    {
     "name": "stdout",
     "output_type": "stream",
     "text": [
      "{'model': [12, 'samra', 9087], 'tyre': True}\n"
     ]
    }
   ],
   "source": [
    "thisdict={\n",
    "    \"model\":12345,\n",
    "    \"tyre\":True,\n",
    "    \"model\":[12,\"samra\",9087]\n",
    "}\n",
    "print(thisdict)\n",
    "    "
   ]
  },
  {
   "cell_type": "code",
   "execution_count": 23,
   "id": "457a532c-6016-4950-830e-07b750b23837",
   "metadata": {},
   "outputs": [
    {
     "name": "stdout",
     "output_type": "stream",
     "text": [
      "<class 'dict'>\n"
     ]
    }
   ],
   "source": [
    "thisdict={\n",
    "    \"model\":12345,\n",
    "    \"tyre\":True,\n",
    "    \"model\":[12,\"samra\",98077]\n",
    "}\n",
    "print(type(thisdict))"
   ]
  },
  {
   "cell_type": "code",
   "execution_count": 27,
   "id": "976572cc-6f85-4f9c-b7c9-373f95299aca",
   "metadata": {},
   "outputs": [
    {
     "name": "stdout",
     "output_type": "stream",
     "text": [
      "{'samra': 'heelo', 'ashraf': 'dfrefg'}\n"
     ]
    }
   ],
   "source": [
    "thisdict=dict(samra=\"heelo\",ashraf=\"dfrefg\")\n",
    "print(thisdict)"
   ]
  },
  {
   "cell_type": "code",
   "execution_count": 33,
   "id": "7d0f8665-fc6f-42af-a908-9629ecc4ed2a",
   "metadata": {},
   "outputs": [
    {
     "name": "stdout",
     "output_type": "stream",
     "text": [
      "{'name': 'samra', 'Dob': '28-02-2002', 'last_date': '28-02-2002'}\n",
      "28-02-2002\n"
     ]
    }
   ],
   "source": [
    "thisdict={\n",
    "    \"name\":\"samra\",\n",
    "    \"Dob\":\"28-02-2002\",\n",
    "    \"last_date\":\"28-02-2002\"\n",
    "}\n",
    "print(thisdict)\n",
    "x=thisdict.get(\"Dob\")\n",
    "print(x)"
   ]
  },
  {
   "cell_type": "code",
   "execution_count": 35,
   "id": "52c2eae5-0653-44bd-8080-dfb9d6ca3526",
   "metadata": {},
   "outputs": [
    {
     "name": "stdout",
     "output_type": "stream",
     "text": [
      "dict_keys(['samra', 'ashraf', 'khan'])\n"
     ]
    }
   ],
   "source": [
    "thisdict={\n",
    "    \"samra\":\"name\",\n",
    "    \"ashraf\":\"father_name\",\n",
    "    \"khan\":\"samra\"\n",
    "}\n",
    "print(thisdict.keys())"
   ]
  },
  {
   "cell_type": "code",
   "execution_count": 41,
   "id": "33d23f5c-ab46-4058-be01-e06ba71c2834",
   "metadata": {},
   "outputs": [
    {
     "name": "stdout",
     "output_type": "stream",
     "text": [
      "dict_keys(['samra', 'ashraf', 'khan'])\n",
      "dict_keys(['samra', 'ashraf', 'khan', 'color'])\n"
     ]
    }
   ],
   "source": [
    "thisdict={\n",
    "    \"samra\":\"name\",\n",
    "    \"ashraf\":\"father_name\",\n",
    "    \"khan\":\"samra\"\n",
    "}\n",
    "x=thisdict.keys()\n",
    "print(x)\n",
    "thisdict[\"color\"]=\"white\"\n",
    "print(x)"
   ]
  },
  {
   "cell_type": "code",
   "execution_count": 43,
   "id": "127050ce-78e7-4078-9cc1-ade232fb9134",
   "metadata": {},
   "outputs": [
    {
     "name": "stdout",
     "output_type": "stream",
     "text": [
      "dict_values(['name', 'father_name', 'samra'])\n"
     ]
    }
   ],
   "source": [
    "thisdict={\n",
    "    \"samra\":\"name\",\n",
    "    \"ashraf\":\"father_name\",\n",
    "    \"khan\":\"samra\"\n",
    "}\n",
    "x=thisdict.values()\n",
    "print(x)"
   ]
  },
  {
   "cell_type": "code",
   "execution_count": 49,
   "id": "bd14faae-ab84-49ab-a9d5-9d61507f1b61",
   "metadata": {},
   "outputs": [
    {
     "name": "stdout",
     "output_type": "stream",
     "text": [
      "dict_values(['name', 'father_name', 'samra', 'white'])\n",
      "dict_items([('samra', 'name'), ('ashraf', 'father_name'), ('khan', 'samra'), ('car', 'white')])\n"
     ]
    }
   ],
   "source": [
    "thisdict={\n",
    "    \"samra\":\"name\",\n",
    "    \"ashraf\":\"father_name\",\n",
    "    \"khan\":\"samra\"\n",
    "}\n",
    "x=thisdict.values()\n",
    "thisdict[\"car\"]=\"white\"\n",
    "print(x)\n",
    "y=thisdict.items()\n",
    "print(y)\n",
    "    "
   ]
  },
  {
   "cell_type": "code",
   "execution_count": 51,
   "id": "1a8882fb-5de3-41a0-8a06-9b25b427470e",
   "metadata": {},
   "outputs": [
    {
     "name": "stdout",
     "output_type": "stream",
     "text": [
      "12345 dict_values(['Ashraf', 12345, 'Wah Cantt', 'white']) dict_keys(['samra', 'address', 'place', 'color']) dict_items([('samra', 'Ashraf'), ('address', 12345), ('place', 'Wah Cantt'), ('color', 'white')])\n"
     ]
    }
   ],
   "source": [
    "thisdict={\n",
    "    \"samra\":\"Ashraf\",\n",
    "    \"address\":12345,\n",
    "    \"place\":\"Wah Cantt\"\n",
    "}\n",
    "x=thisdict.get(\"address\")\n",
    "y=thisdict.values()\n",
    "z=thisdict.keys()\n",
    "a=thisdict.items()\n",
    "thisdict[\"color\"]=\"white\"\n",
    "print(x,y,z,a)"
   ]
  },
  {
   "cell_type": "code",
   "execution_count": 57,
   "id": "a401a4f2-7a57-452f-8794-ad0cc71a93e0",
   "metadata": {},
   "outputs": [
    {
     "name": "stdout",
     "output_type": "stream",
     "text": [
      "not\n"
     ]
    }
   ],
   "source": [
    "thisdict={\n",
    "    \"samra\":\"Ashraf\",\n",
    "    \"address\":12345,\n",
    "    \"place\":\"Wah Cantt\"\n",
    "}\n",
    "if \"car\" in thisdict:\n",
    "    print(\"item present\")\n",
    "else:\n",
    "    print(\"not\")\n"
   ]
  },
  {
   "cell_type": "code",
   "execution_count": null,
   "id": "57ad1d14-3c14-4a1c-b6e1-3700b99bde30",
   "metadata": {},
   "outputs": [],
   "source": []
  }
 ],
 "metadata": {
  "kernelspec": {
   "display_name": "Python 3 (ipykernel)",
   "language": "python",
   "name": "python3"
  },
  "language_info": {
   "codemirror_mode": {
    "name": "ipython",
    "version": 3
   },
   "file_extension": ".py",
   "mimetype": "text/x-python",
   "name": "python",
   "nbconvert_exporter": "python",
   "pygments_lexer": "ipython3",
   "version": "3.12.4"
  }
 },
 "nbformat": 4,
 "nbformat_minor": 5
}
