{
 "cells": [
  {
   "cell_type": "markdown",
   "metadata": {},
   "source": [
    "# Python_List\n"
   ]
  },
  {
   "cell_type": "code",
   "execution_count": 1,
   "metadata": {},
   "outputs": [
    {
     "name": "stdout",
     "output_type": "stream",
     "text": [
      "['Apple', 'orange', 'banana']\n"
     ]
    }
   ],
   "source": [
    "# print the list\n",
    "fruits=[\"Apple\",\"orange\",\"banana\"]\n",
    "print(fruits)"
   ]
  },
  {
   "cell_type": "code",
   "execution_count": 2,
   "metadata": {},
   "outputs": [
    {
     "name": "stdout",
     "output_type": "stream",
     "text": [
      "4\n"
     ]
    }
   ],
   "source": [
    "#length of the list:\n",
    "fruits=[\"Orange\",\"Yellow\",\"Green\",\"Blue\"]\n",
    "print(len(fruits))"
   ]
  },
  {
   "cell_type": "code",
   "execution_count": 5,
   "metadata": {},
   "outputs": [
    {
     "name": "stdout",
     "output_type": "stream",
     "text": [
      "<class 'list'>\n",
      "<class 'list'>\n",
      "<class 'list'>\n"
     ]
    }
   ],
   "source": [
    "#List Items Data Types:\n",
    "item1=[\"hello\",\"world\",\"pakistan\"]\n",
    "item2=[True,False]\n",
    "item3=[12,23,45,89]\n",
    "print(type(item1)),\n",
    "print(type(item2)),\n",
    "print(type(item3))"
   ]
  },
  {
   "cell_type": "code",
   "execution_count": 5,
   "metadata": {},
   "outputs": [
    {
     "name": "stdout",
     "output_type": "stream",
     "text": [
      "['hello', 'world', 'hello']\n",
      "hello\n"
     ]
    }
   ],
   "source": [
    "#list allow duplicates column:\n",
    "item1=[\"hello\",\"world\",\"hello\"]\n",
    "print(item1)\n",
    "print(item1[2])\n"
   ]
  },
  {
   "cell_type": "code",
   "execution_count": 9,
   "metadata": {},
   "outputs": [
    {
     "name": "stdout",
     "output_type": "stream",
     "text": [
      "['world', '786', True]\n"
     ]
    }
   ],
   "source": [
    "#use a list constructor to make a list:\n",
    "listitems=list((\"world\",'786',True))\n",
    "print(listitems)"
   ]
  },
  {
   "cell_type": "code",
   "execution_count": 15,
   "metadata": {},
   "outputs": [
    {
     "name": "stdout",
     "output_type": "stream",
     "text": [
      "('Fruits', 'Vegetables', 'Russian')\n",
      "Vegetables\n",
      "Fruits\n"
     ]
    }
   ],
   "source": [
    "#Python Access List items:\n",
    "listitems=(\"Fruits\",\"Vegetables\",\"Russian\")\n",
    "print(listitems)\n",
    "print(listitems[1])\n",
    "#Negative Indexing:\n",
    "print(listitems[-3])"
   ]
  },
  {
   "cell_type": "code",
   "execution_count": 19,
   "metadata": {},
   "outputs": [
    {
     "name": "stdout",
     "output_type": "stream",
     "text": [
      "['vegetables', 'thai', 'Russain', 'Italian']\n",
      "['fruits', 'vegetables', 'thai', 'Russain', 'Italian', 'Chinese']\n",
      "['Italian', 'Chinese']\n"
     ]
    }
   ],
   "source": [
    "#Range of Indexing:\n",
    "items=[\"fruits\",\"vegetables\",\"thai\",\"Russain\",\"Italian\",\"Chinese\"]\n",
    "print(items[1:5])\n",
    "print(items[:6])\n",
    "print(items[4:])"
   ]
  },
  {
   "cell_type": "code",
   "execution_count": 22,
   "metadata": {},
   "outputs": [
    {
     "name": "stdout",
     "output_type": "stream",
     "text": [
      "['orange', 'apple', 'flowers', 'paratha']\n"
     ]
    }
   ],
   "source": [
    "#Range of Negative Indexes:\n",
    "items=[\"orange\",\"apple\",\"flowers\",\"paratha\",\"rolls\"]\n",
    "print(items[-5:-1])"
   ]
  },
  {
   "cell_type": "code",
   "execution_count": 23,
   "metadata": {},
   "outputs": [
    {
     "name": "stdout",
     "output_type": "stream",
     "text": [
      "Yes items in this list\n"
     ]
    }
   ],
   "source": [
    "#Check if item exists:\n",
    "items=[\"orange\",\"apple\",\"flowers\",\"rolls\"]\n",
    "if \"flowers\" in items:\n",
    "    print(\"Yes items in this list\")"
   ]
  },
  {
   "cell_type": "code",
   "execution_count": 24,
   "metadata": {},
   "outputs": [
    {
     "name": "stdout",
     "output_type": "stream",
     "text": [
      "['kiwi', 'orange', 'ITalian']\n"
     ]
    }
   ],
   "source": [
    "#Change List items:\n",
    "fruits=[\"kiwi\",'orange','fastfoods']\n",
    "fruits[2]=\"ITalian\"\n",
    "print(fruits)"
   ]
  },
  {
   "cell_type": "code",
   "execution_count": 26,
   "metadata": {},
   "outputs": [
    {
     "name": "stdout",
     "output_type": "stream",
     "text": [
      "['fruits', 'italian', 'colddrinks', 'methai']\n",
      "colddrinks\n"
     ]
    }
   ],
   "source": [
    "#Change range of list items:\n",
    "items=[\"fruits\",\"italian\",\"thai\"]\n",
    "items[2:4]=[\"colddrinks\",\"methai\"]\n",
    "print(items)\n",
    "print(items[2])"
   ]
  },
  {
   "cell_type": "code",
   "execution_count": 31,
   "metadata": {},
   "outputs": [
    {
     "name": "stdout",
     "output_type": "stream",
     "text": [
      "['fruits', 'fastfoods', 'italian', 'oranges']\n"
     ]
    }
   ],
   "source": [
    "#Replacing with one value:\n",
    "items=[\"fruits\",\"fastfoods\",\"restaurants\",\"oranges\"]\n",
    "items[2:3]=[\"italian\"]\n",
    "print((items))"
   ]
  },
  {
   "cell_type": "code",
   "execution_count": 33,
   "metadata": {},
   "outputs": [
    {
     "name": "stdout",
     "output_type": "stream",
     "text": [
      "['fast', 'frozen', 'italian', 'linear', 'Russian']\n"
     ]
    }
   ],
   "source": [
    "#Insert items using insert():\n",
    "listitems=[\"fast\",\"frozen\",\"italian\",\"linear\"]\n",
    "listitems.insert(4,\"Russian\")\n",
    "print(listitems)"
   ]
  },
  {
   "cell_type": "code",
   "execution_count": 3,
   "metadata": {},
   "outputs": [
    {
     "name": "stdout",
     "output_type": "stream",
     "text": [
      "['fast', 'frozen', 'italian', 'linear', 'Chinese']\n",
      "['fast', 'frozen', 'italian', 'watermelon', 'linear', 'Chinese']\n"
     ]
    }
   ],
   "source": [
    "#Add List Items append Function():\n",
    "\n",
    "listitem=[\"fast\",\"frozen\",\"italian\",\"linear\"]\n",
    "listitem.append(\"Chinese\")\n",
    "print(listitem)\n",
    "listitem.insert(3,\"watermelon\")\n",
    "print(listitem)"
   ]
  },
  {
   "cell_type": "code",
   "execution_count": 4,
   "metadata": {},
   "outputs": [
    {
     "name": "stdout",
     "output_type": "stream",
     "text": [
      "['fruits', 'vegetables', 'Russain', 'Pasta', 'Orange', 'veg', 'Indian', 'American']\n"
     ]
    }
   ],
   "source": [
    "#Use of Extend Function:\n",
    "listitem=[\"fruits\",\"vegetables\",\"Russain\",\"Pasta\"]\n",
    "listitem2=[\"Orange\",\"veg\",\"Indian\",\"American\"]\n",
    "listitem.extend(listitem2)\n",
    "print(listitem)"
   ]
  },
  {
   "cell_type": "code",
   "execution_count": 5,
   "metadata": {},
   "outputs": [
    {
     "name": "stdout",
     "output_type": "stream",
     "text": [
      "['fruits', 'Vegetables', 'Russain', 'Pasta', 'fruits', 'Vegetables']\n"
     ]
    }
   ],
   "source": [
    "#Use of Extend Function(list and tuple) Any Iterable:\n",
    "listitem=[\"fruits\",\"Vegetables\",\"Russain\",\"Pasta\"]\n",
    "listitem2=('fruits','Vegetables')\n",
    "listitem.extend(listitem2)\n",
    "print(listitem)"
   ]
  },
  {
   "cell_type": "code",
   "execution_count": 2,
   "metadata": {},
   "outputs": [
    {
     "name": "stdout",
     "output_type": "stream",
     "text": [
      "['fruits', 'Vegetables']\n"
     ]
    }
   ],
   "source": [
    "#Remove list items:\n",
    "items=[\"fruits\",\"Vegetables\",\"Russain\"]\n",
    "items.remove(\"Russain\")\n",
    "print(items)"
   ]
  },
  {
   "cell_type": "code",
   "execution_count": 6,
   "metadata": {},
   "outputs": [
    {
     "name": "stdout",
     "output_type": "stream",
     "text": [
      "['Fruits', 'Bakery', 'Choclates', 'Cake']\n",
      "['Fruits', 'Bakery', 'Choclates']\n"
     ]
    }
   ],
   "source": [
    "#Remove using pop method and if not specified any index it will remove last items:\n",
    "items=[\"Fruits\",\"Vegetables\",\"Bakery\",\"Choclates\",\"Cake\"]\n",
    "items.pop(1)\n",
    "print(items)\n",
    "items.pop()\n",
    "print(items)"
   ]
  },
  {
   "cell_type": "code",
   "execution_count": 9,
   "metadata": {},
   "outputs": [
    {
     "name": "stdout",
     "output_type": "stream",
     "text": [
      "['Fruits', 'Vegetables', 'Choclates', 'Cake']\n"
     ]
    }
   ],
   "source": [
    "#Remove Specified Index:\n",
    "items=[\"Fruits\",\"Vegetables\",\"Bakery\",\"Choclates\",\"Cake\"]\n",
    "del items[2]\n",
    "print(items)"
   ]
  },
  {
   "cell_type": "code",
   "execution_count": 10,
   "metadata": {},
   "outputs": [
    {
     "name": "stdout",
     "output_type": "stream",
     "text": [
      "[]\n"
     ]
    }
   ],
   "source": [
    "#clear() used to remove items\n",
    "items=[\"Fruits\",\"Vegetables\",\"Bakery\",\"Choclates\",\"Cake\"]\n",
    "items.clear()\n",
    "print(items)"
   ]
  },
  {
   "cell_type": "code",
   "execution_count": 11,
   "metadata": {},
   "outputs": [
    {
     "name": "stdout",
     "output_type": "stream",
     "text": [
      "Choclate\n",
      "Icecream\n",
      "Pizza\n",
      "Burger\n"
     ]
    }
   ],
   "source": [
    "#loop through list items:\n",
    "items=[\"Choclate\",\"Icecream\",\"Pizza\",\"Burger\"]\n",
    "for x in items:\n",
    "    print(x)"
   ]
  },
  {
   "cell_type": "code",
   "execution_count": 15,
   "metadata": {},
   "outputs": [
    {
     "name": "stdout",
     "output_type": "stream",
     "text": [
      "Choclates\n",
      "Vegetables\n",
      "Pizza\n",
      "Burger\n"
     ]
    }
   ],
   "source": [
    "#list through len and range function:\n",
    "items=[\"Choclates\",\"Vegetables\",\"Pizza\",\"Burger\"]\n",
    "for i in range(len(items)):\n",
    "    print(items[i])\n"
   ]
  },
  {
   "cell_type": "code",
   "execution_count": null,
   "metadata": {},
   "outputs": [],
   "source": []
  },
  {
   "cell_type": "code",
   "execution_count": 13,
   "metadata": {},
   "outputs": [
    {
     "name": "stdout",
     "output_type": "stream",
     "text": [
      "apple\n",
      "banana\n",
      "cherry\n"
     ]
    }
   ],
   "source": [
    "# use of while loop:\n",
    "thislist = [\"apple\", \"banana\", \"cherry\"]\n",
    "i = 0\n",
    "while i < len(thislist):\n",
    "  print(thislist[i])\n",
    "  i = i + 1"
   ]
  },
  {
   "cell_type": "code",
   "execution_count": 18,
   "metadata": {},
   "outputs": [
    {
     "name": "stdout",
     "output_type": "stream",
     "text": [
      "apple\n",
      "banana\n",
      "cherry\n"
     ]
    },
    {
     "data": {
      "text/plain": [
       "[None, None, None]"
      ]
     },
     "execution_count": 18,
     "metadata": {},
     "output_type": "execute_result"
    }
   ],
   "source": [
    "#Comprehension list:\n",
    "items=[\"apple\",\"banana\",\"cherry\"]\n",
    "[print (x) for x in items]\n"
   ]
  },
  {
   "cell_type": "code",
   "execution_count": 21,
   "metadata": {},
   "outputs": [
    {
     "name": "stdout",
     "output_type": "stream",
     "text": [
      "['orange', 'apple']\n"
     ]
    }
   ],
   "source": [
    "# without Comprehsnion list:\n",
    "items=[\"fruits\",\"orange\",\"apple\"]\n",
    "newlist=[]\n",
    "for x in items:\n",
    "    if \"a\" in x:\n",
    "        newlist.append(x)\n",
    "print(newlist)\n"
   ]
  },
  {
   "cell_type": "code",
   "execution_count": 22,
   "metadata": {},
   "outputs": [
    {
     "name": "stdout",
     "output_type": "stream",
     "text": [
      "['Orange']\n"
     ]
    }
   ],
   "source": [
    "#list Comprehesnion:\n",
    "items=[\"Fruits\",\"Orange\",\"Apple\"]\n",
    "newlist=[x for x in items if \"a\"in x]\n",
    "print(newlist)"
   ]
  },
  {
   "cell_type": "code",
   "execution_count": 26,
   "metadata": {},
   "outputs": [
    {
     "name": "stdout",
     "output_type": "stream",
     "text": [
      "[0, 1, 2, 3, 4, 5, 6, 7, 8, 9]\n"
     ]
    }
   ],
   "source": [
    "item=[\"fruits\",\"vegetables\",\"roll\"]\n",
    "newlist=[x for x in range(10)]\n",
    "print(newlist)"
   ]
  },
  {
   "cell_type": "code",
   "execution_count": 29,
   "metadata": {},
   "outputs": [
    {
     "name": "stdout",
     "output_type": "stream",
     "text": [
      "['FRUITS', 'VEGETABLES', 'ROLL']\n"
     ]
    }
   ],
   "source": [
    "# use  of uppercase function:\n",
    "item=[\"fruits\",\"vegetables\",\"roll\"]\n",
    "newlist=[x.upper() for x in item]\n",
    "print(newlist)"
   ]
  },
  {
   "cell_type": "code",
   "execution_count": 30,
   "metadata": {},
   "outputs": [
    {
     "name": "stdout",
     "output_type": "stream",
     "text": [
      "[0, 1, 2, 3, 4]\n"
     ]
    }
   ],
   "source": [
    "#only accept numbers:\n",
    "item=[\"fruits\",\"vegetables\",\"roll\"]\n",
    "newlist=[x for x in range(10) if x<5]\n",
    "print(newlist)"
   ]
  },
  {
   "cell_type": "code",
   "execution_count": 33,
   "metadata": {},
   "outputs": [
    {
     "name": "stdout",
     "output_type": "stream",
     "text": [
      "['Pakistan', 'Pakistan', 'Pakistan']\n",
      "['vegetables', 'vegetables', 'roll']\n"
     ]
    }
   ],
   "source": [
    "#print all numbers:\n",
    "item=[\"fruits\",\"vegetables\",\"roll\"]\n",
    "newlist=[\"Pakistan\" for x in item]\n",
    "print(newlist)\n",
    "newitem=[x if x!=\"fruits\"else\"vegetables\" for x in item]\n",
    "print(newitem)"
   ]
  },
  {
   "cell_type": "code",
   "execution_count": 38,
   "metadata": {},
   "outputs": [
    {
     "name": "stdout",
     "output_type": "stream",
     "text": [
      "['fruits', 'roll', 'vegetables']\n",
      "[12, 12, 34, 98, 345]\n"
     ]
    }
   ],
   "source": [
    "#Sort List:\n",
    "listitems=[\"fruits\",\"vegetables\",\"roll\"]\n",
    "listitems.sort()\n",
    "numlist=[12,34,12,345,98]\n",
    "print(listitems)\n",
    "numlist.sort()\n",
    "print(numlist)\n"
   ]
  },
  {
   "cell_type": "code",
   "execution_count": 39,
   "metadata": {},
   "outputs": [
    {
     "name": "stdout",
     "output_type": "stream",
     "text": [
      "[67, 56, 45, 23, 14, 12, 9, 7, 3]\n"
     ]
    }
   ],
   "source": [
    "#Sort Descending:\n",
    "numlist=[12,45,67,23,56,9,14,3,7]\n",
    "numlist.sort(reverse=True)\n",
    "print(numlist)"
   ]
  },
  {
   "cell_type": "code",
   "execution_count": 41,
   "metadata": {},
   "outputs": [
    {
     "name": "stdout",
     "output_type": "stream",
     "text": [
      "[45, 34, 23, 78]\n"
     ]
    }
   ],
   "source": [
    "#Customize Sort Function:\n",
    "def myfunc (n):\n",
    "    return abs(n -50)\n",
    "item=[23,34,78,45]\n",
    "item.sort(key=myfunc)\n",
    "print(item)"
   ]
  },
  {
   "cell_type": "code",
   "execution_count": 52,
   "metadata": {},
   "outputs": [
    {
     "name": "stdout",
     "output_type": "stream",
     "text": [
      "['apple', 'banana', 'cherry']\n"
     ]
    }
   ],
   "source": [
    "#Customize lower function:\n",
    "\n",
    "thislist = [\"apple\", \"banana\", \"cherry\"]\n",
    "thislist.sort(key=str.lower)\n",
    "print(thislist)\n"
   ]
  },
  {
   "cell_type": "code",
   "execution_count": 53,
   "metadata": {},
   "outputs": [
    {
     "name": "stdout",
     "output_type": "stream",
     "text": [
      "['orange', 'mango', 'apple']\n"
     ]
    }
   ],
   "source": [
    "#Reverse the order of the list:\n",
    "thislist=[\"apple\",\"mango\",\"orange\"]\n",
    "thislist.reverse()\n",
    "print(thislist)"
   ]
  },
  {
   "cell_type": "code",
   "execution_count": 54,
   "metadata": {},
   "outputs": [
    {
     "name": "stdout",
     "output_type": "stream",
     "text": [
      "['apple', 'banana', 'cherry']\n"
     ]
    }
   ],
   "source": [
    "#Copy a list:\n",
    "thislist=[\"apple\", \"banana\", \"cherry\"]\n",
    "newlist=thislist.copy()\n",
    "print(newlist)\n",
    "\n"
   ]
  },
  {
   "cell_type": "code",
   "execution_count": 55,
   "metadata": {},
   "outputs": [
    {
     "name": "stdout",
     "output_type": "stream",
     "text": [
      "['apple', 'banana', 'cherry']\n"
     ]
    }
   ],
   "source": [
    "#use builtin list function:\n",
    "thislist = [\"apple\", \"banana\", \"cherry\"]\n",
    "newlist=list(thislist)\n",
    "print(newlist)"
   ]
  },
  {
   "cell_type": "code",
   "execution_count": 56,
   "metadata": {},
   "outputs": [
    {
     "name": "stdout",
     "output_type": "stream",
     "text": [
      "[234, 567, 89, 56, 23]\n"
     ]
    }
   ],
   "source": [
    "#using slice operator:\n",
    "thislist=[234,567,89,56,23]\n",
    "list2=thislist[:]\n",
    "print(list2)"
   ]
  },
  {
   "cell_type": "code",
   "execution_count": 58,
   "metadata": {},
   "outputs": [
    {
     "name": "stdout",
     "output_type": "stream",
     "text": [
      "['a', 'b', 'c', 'd', 'e', 'f']\n"
     ]
    }
   ],
   "source": [
    "#copy list items:\n",
    "newitem=['a','b','c']\n",
    "item2=['d','e','f']\n",
    "cat=newitem+item2\n",
    "print(cat)"
   ]
  },
  {
   "cell_type": "code",
   "execution_count": 61,
   "metadata": {},
   "outputs": [
    {
     "name": "stdout",
     "output_type": "stream",
     "text": [
      "['a', 'b', 'c', 'd', 'e', 'f']\n"
     ]
    }
   ],
   "source": [
    "#using append method:\n",
    "newitem=['a','b','c']\n",
    "item2=['d','e','f']\n",
    "for x in item2:\n",
    "  newitem.append(x)\n",
    "print(newitem)"
   ]
  },
  {
   "cell_type": "code",
   "execution_count": 62,
   "metadata": {},
   "outputs": [
    {
     "name": "stdout",
     "output_type": "stream",
     "text": [
      "['a', 'b', 'c', 'd', 'e', 'f']\n"
     ]
    }
   ],
   "source": [
    "# using extend function:\n",
    "newitem=['a','b','c']\n",
    "item2=['d','e','f']\n",
    "newitem.extend(item2)\n",
    "print(newitem)\n"
   ]
  },
  {
   "cell_type": "markdown",
   "metadata": {},
   "source": [
    "#Python Tuples:"
   ]
  },
  {
   "cell_type": "markdown",
   "metadata": {},
   "source": [
    "# Python Tuple:\n",
    "mytuples=(\"apple\",\"cherry\",\"Watermelon\")\n",
    "print(mytuples)"
   ]
  },
  {
   "cell_type": "code",
   "execution_count": 2,
   "metadata": {},
   "outputs": [
    {
     "name": "stdout",
     "output_type": "stream",
     "text": [
      "4\n"
     ]
    }
   ],
   "source": [
    "#Tuple length:\n",
    "myvar=(\"apple\",\"cherry\",\"orange\",\"flower\")\n",
    "print(len(myvar))"
   ]
  },
  {
   "cell_type": "code",
   "execution_count": 4,
   "metadata": {},
   "outputs": [
    {
     "name": "stdout",
     "output_type": "stream",
     "text": [
      "<class 'tuple'>\n",
      "<class 'str'>\n"
     ]
    }
   ],
   "source": [
    "#Tuple-type:\n",
    "var=(\"apple\",)\n",
    "name=(\"pineapple\")\n",
    "print(type(var))\n",
    "print(type(name))\n"
   ]
  },
  {
   "cell_type": "code",
   "execution_count": 7,
   "metadata": {},
   "outputs": [
    {
     "name": "stdout",
     "output_type": "stream",
     "text": [
      "<class 'tuple'>\n"
     ]
    }
   ],
   "source": [
    "#Tuple with different items:\n",
    "var=(\"fruits\",\"train\",\"car\",\"aeroplane\")\n",
    "print(type(var))\n",
    "myname=(\"hello\",12344,True,False)"
   ]
  },
  {
   "cell_type": "code",
   "execution_count": 9,
   "metadata": {},
   "outputs": [
    {
     "name": "stdout",
     "output_type": "stream",
     "text": [
      "('fruits', 'Vegetables', 'Aeroplanes')\n"
     ]
    }
   ],
   "source": [
    "#Tuple Constructor:\n",
    "items=tuple((\"fruits\",\"Vegetables\",\"Aeroplanes\"))\n",
    "print(items)"
   ]
  },
  {
   "cell_type": "code",
   "execution_count": 17,
   "metadata": {},
   "outputs": [
    {
     "name": "stdout",
     "output_type": "stream",
     "text": [
      "anaya\n",
      "('samra', 'noor', 'fatima')\n",
      "('fatima', 'anaya')\n",
      "()\n"
     ]
    }
   ],
   "source": [
    "#Access Tuple items,Range of Tuple Negative indexes:\n",
    "name=(\"samra\",\"noor\",\"fatima\",\"anaya\")\n",
    "print(name[3])\n",
    "print(name[:3])\n",
    "print(name[2:])\n",
    "print(name[-1:-3])\n"
   ]
  },
  {
   "cell_type": "code",
   "execution_count": 20,
   "metadata": {},
   "outputs": [
    {
     "name": "stdout",
     "output_type": "stream",
     "text": [
      "name is not present\n"
     ]
    }
   ],
   "source": [
    "#using Conditional statement:\n",
    "name=(\"samra\",\"noor\",\"fatima\",\"Mahnoor\")\n",
    "if \"Eman\" in name:\n",
    "    print(\"Yes name is present in the tuple\")\n",
    "else:\n",
    "    print(\"name is not present\")"
   ]
  },
  {
   "cell_type": "code",
   "execution_count": 1,
   "metadata": {},
   "outputs": [
    {
     "name": "stdout",
     "output_type": "stream",
     "text": [
      "('apple', 'orange', 'cherry')\n"
     ]
    }
   ],
   "source": [
    "#Update Tuples:\n",
    "x = (\"apple\", \"banana\", \"cherry\")\n",
    "y = list(x)\n",
    "y[1] = \"orange\"\n",
    "x = tuple(y)\n",
    "\n",
    "print(x)\n"
   ]
  },
  {
   "cell_type": "code",
   "execution_count": 3,
   "metadata": {},
   "outputs": [
    {
     "name": "stdout",
     "output_type": "stream",
     "text": [
      "('apple', 'banana', 'cherry', 'orange')\n"
     ]
    }
   ],
   "source": [
    "#Add items:\n",
    "thistuple = (\"apple\", \"banana\", \"cherry\")\n",
    "y = list(thistuple)\n",
    "y.append(\"orange\")\n",
    "thistuple = tuple(y)\n",
    "print(thistuple)"
   ]
  },
  {
   "cell_type": "code",
   "execution_count": 4,
   "metadata": {},
   "outputs": [
    {
     "name": "stdout",
     "output_type": "stream",
     "text": [
      "('apple', 'banana', 'cherry', 'orange')\n"
     ]
    }
   ],
   "source": [
    "#Add tuple to a tuple:\n",
    "thistuple = (\"apple\", \"banana\", \"cherry\")\n",
    "y = (\"orange\",)\n",
    "thistuple =thistuple+ y\n",
    "\n",
    "print(thistuple)"
   ]
  },
  {
   "cell_type": "code",
   "execution_count": 6,
   "metadata": {},
   "outputs": [
    {
     "name": "stdout",
     "output_type": "stream",
     "text": [
      "('banana', 'cherry')\n"
     ]
    }
   ],
   "source": [
    "#Remove items:\n",
    "thistuple = (\"apple\", \"banana\", \"cherry\")\n",
    "y = list(thistuple)\n",
    "y.remove(\"apple\")\n",
    "thistuple = tuple(y)\n",
    "print(thistuple)"
   ]
  },
  {
   "cell_type": "code",
   "execution_count": 7,
   "metadata": {},
   "outputs": [
    {
     "name": "stdout",
     "output_type": "stream",
     "text": [
      "apple\n",
      "banana\n",
      "cherry\n"
     ]
    }
   ],
   "source": [
    "#Unpacking a Tuple:\n",
    "fruits = (\"apple\", \"banana\", \"cherry\")\n",
    "\n",
    "(x, y,z) = fruits\n",
    "\n",
    "print(x)\n",
    "print(y)\n",
    "print(z)"
   ]
  },
  {
   "cell_type": "code",
   "execution_count": 9,
   "metadata": {},
   "outputs": [
    {
     "name": "stdout",
     "output_type": "stream",
     "text": [
      "apple\n",
      "banana\n",
      "['cherry', 'strawberry', 'raspberry']\n"
     ]
    }
   ],
   "source": [
    "#using *Asteriks:\n",
    "fruits = (\"apple\", \"banana\", \"cherry\", \"strawberry\", \"raspberry\")\n",
    "\n",
    "(x, y, *z) = fruits\n",
    "\n",
    "print(x)\n",
    "print(y)\n",
    "print(z)"
   ]
  },
  {
   "cell_type": "code",
   "execution_count": 10,
   "metadata": {},
   "outputs": [
    {
     "name": "stdout",
     "output_type": "stream",
     "text": [
      "apple\n",
      "banana\n",
      "cherry\n"
     ]
    }
   ],
   "source": [
    "#Loop through the index number:\n",
    "thistuple = (\"apple\", \"banana\", \"cherry\")\n",
    "for i in range(len(thistuple)):\n",
    "  print(thistuple[i])"
   ]
  },
  {
   "cell_type": "code",
   "execution_count": 11,
   "metadata": {},
   "outputs": [
    {
     "name": "stdout",
     "output_type": "stream",
     "text": [
      "apple\n",
      "banana\n",
      "cherry\n"
     ]
    }
   ],
   "source": [
    "#using while loop\n",
    "thistuple = (\"apple\", \"banana\", \"cherry\")\n",
    "i = 0\n",
    "while i < len(thistuple):\n",
    "  print(thistuple[i])\n",
    "  i = i + 1"
   ]
  },
  {
   "cell_type": "code",
   "execution_count": 12,
   "metadata": {},
   "outputs": [
    {
     "name": "stdout",
     "output_type": "stream",
     "text": [
      "('a', 'b', 'c', 1, 2, 3)\n"
     ]
    }
   ],
   "source": [
    "tuple1 = (\"a\", \"b\" , \"c\")\n",
    "tuple2 = (1, 2, 3)\n",
    "\n",
    "tuple3 = tuple1 + tuple2\n",
    "print(tuple3)"
   ]
  },
  {
   "cell_type": "code",
   "execution_count": 13,
   "metadata": {},
   "outputs": [
    {
     "name": "stdout",
     "output_type": "stream",
     "text": [
      "('apple', 'banana', 'cherry', 'apple', 'banana', 'cherry')\n"
     ]
    }
   ],
   "source": [
    "#multiple tuples:\n",
    "fruits = (\"apple\", \"banana\", \"cherry\")\n",
    "mytuple = fruits * 2\n",
    "\n",
    "print(mytuple)"
   ]
  },
  {
   "cell_type": "markdown",
   "metadata": {},
   "source": [
    "# Python Sets:"
   ]
  },
  {
   "cell_type": "code",
   "execution_count": 1,
   "metadata": {},
   "outputs": [
    {
     "name": "stdout",
     "output_type": "stream",
     "text": [
      "{'aqsa', 'fatima', 'samra'}\n"
     ]
    }
   ],
   "source": [
    "#Sets:\n",
    "mysets={\"samra\",\"fatima\",\"aqsa\"}\n",
    "print(mysets)\n"
   ]
  },
  {
   "cell_type": "code",
   "execution_count": 6,
   "metadata": {},
   "outputs": [
    {
     "name": "stdout",
     "output_type": "stream",
     "text": [
      "5\n"
     ]
    }
   ],
   "source": [
    "#Duplicates not allowed Boolen values treated as double:\n",
    "mysets={\"fruits\",\"orange\",\"apple\",\"egg\",\"apple\"}\n",
    "mysets={\"Fruits\",True,False,\"hello\",1,34,0}\n",
    "print(len(mysets))"
   ]
  },
  {
   "cell_type": "code",
   "execution_count": 12,
   "metadata": {},
   "outputs": [
    {
     "name": "stdout",
     "output_type": "stream",
     "text": [
      "{45, 68, 12, 23} {'Hello', 'world', 'What are you doing'} {False, True, 2, 3}\n",
      "<class 'set'> <class 'set'> <class 'set'>\n"
     ]
    }
   ],
   "source": [
    "#Sets Data can be any type,Get set type:\n",
    "Set1={12,23,45,68}\n",
    "set2={\"Hello\",\"world\",\"What are you doing\"}\n",
    "set3={True,False,0,1,2,3}\n",
    "print(Set1,set2,set3)\n",
    "print(type(Set1),type(set2),type(set3))"
   ]
  },
  {
   "cell_type": "code",
   "execution_count": 14,
   "metadata": {},
   "outputs": [
    {
     "name": "stdout",
     "output_type": "stream",
     "text": [
      "{'shoes', 'Hello', 'world', 'heel'}\n"
     ]
    }
   ],
   "source": [
    "#Set Constructor:\n",
    "myset=set((\"Hello\",\"world\",\"heel\",\"shoes\"))\n",
    "print(myset)"
   ]
  },
  {
   "cell_type": "code",
   "execution_count": 23,
   "metadata": {},
   "outputs": [
    {
     "name": "stdout",
     "output_type": "stream",
     "text": [
      "shoes\n",
      "Hello\n",
      "world\n",
      "heel\n",
      "False\n",
      "False\n"
     ]
    }
   ],
   "source": [
    "#Access items:\n",
    "myset=set((\"Hello\",\"world\",\"heel\",\"shoes\"))\n",
    "for x in myset:\n",
    "    print(x)\n",
    "print(\"heeL\" in myset)\n",
    "print(\"world\" not in myset)\n"
   ]
  },
  {
   "cell_type": "code",
   "execution_count": 24,
   "metadata": {},
   "outputs": [
    {
     "name": "stdout",
     "output_type": "stream",
     "text": [
      "{'Tuesday', 'pakistan', 'hello', 'samra', 'what'}\n"
     ]
    }
   ],
   "source": [
    "#Add set items:\n",
    "myset={\"hello\",\"what\",\"samra\",\"pakistan\"}\n",
    "myset.add(\"Tuesday\")\n",
    "print(myset)"
   ]
  },
  {
   "cell_type": "code",
   "execution_count": 26,
   "metadata": {},
   "outputs": [
    {
     "name": "stdout",
     "output_type": "stream",
     "text": [
      "{'hello', 'two', 'four', 'three', 'add'}\n"
     ]
    }
   ],
   "source": [
    "#Add one set into another:\n",
    "myset={\"add\",\"two\",\"three\",\"four\"}\n",
    "myset2={\"add\",\"two\",\"three\",\"hello\"}\n",
    "myset.update(myset2)\n",
    "print(myset)"
   ]
  },
  {
   "cell_type": "code",
   "execution_count": 27,
   "metadata": {},
   "outputs": [
    {
     "name": "stdout",
     "output_type": "stream",
     "text": [
      "{34, 67, 'two', 12, 'four', 'three', 23, 'add', 56}\n"
     ]
    }
   ],
   "source": [
    "#Add any itertable:\n",
    "myset={\"add\",\"two\",\"three\",\"four\"}\n",
    "list=[12,23,34,56,67]\n",
    "myset.update(list)\n",
    "print(myset)"
   ]
  },
  {
   "cell_type": "code",
   "execution_count": 29,
   "metadata": {},
   "outputs": [
    {
     "name": "stdout",
     "output_type": "stream",
     "text": [
      "{'Banana', 'Orange'}\n"
     ]
    }
   ],
   "source": [
    "#Remove items:\n",
    "myset={\"apple\",\"Banana\",\"Orange\",\"Apple\"}\n",
    "myset.remove(\"apple\")\n",
    "myset.discard(\"Apple\")\n",
    "print(myset)"
   ]
  },
  {
   "cell_type": "code",
   "execution_count": 35,
   "metadata": {},
   "outputs": [
    {
     "name": "stdout",
     "output_type": "stream",
     "text": [
      "apple\n",
      "{'four', 'Banaana', 'Apple'}\n",
      "set()\n"
     ]
    }
   ],
   "source": [
    "#Use Pop method:\n",
    "myset={\"apple\",\"Banaana\",\"four\",\"Apple\"}\n",
    "b=myset.pop()\n",
    "print(b)\n",
    "print(myset)\n",
    "myset.clear()\n",
    "print(myset)\n"
   ]
  },
  {
   "cell_type": "code",
   "execution_count": 37,
   "metadata": {},
   "outputs": [
    {
     "name": "stdout",
     "output_type": "stream",
     "text": [
      "Banana\n",
      "apple\n",
      "Orange\n",
      "Apple\n"
     ]
    }
   ],
   "source": [
    "#loop sets:\n",
    "set={\"apple\",\"Banana\",\"Orange\",\"Apple\"}\n",
    "for x in set:\n",
    "    print(x)"
   ]
  },
  {
   "cell_type": "code",
   "execution_count": 42,
   "metadata": {},
   "outputs": [
    {
     "name": "stdout",
     "output_type": "stream",
     "text": [
      "{'a', 12, 'd', 13, 14, 15, 16, 17, 18, 19, 20, 'e', 'c', 'b'}\n",
      "{'a', 12, 'd', 13, 14, 15, 16, 17, 18, 19, 20, 'e', 'c', 'b'}\n"
     ]
    }
   ],
   "source": [
    "#join through union items:\n",
    "item1={'a','b','c','d','e'}\n",
    "item2={12,13,14,15,16,17,18,19,20}\n",
    "item3=item1.union(item2)\n",
    "item4=item1|item2\n",
    "print(item3)\n",
    "print(item4)"
   ]
  },
  {
   "cell_type": "code",
   "execution_count": 46,
   "metadata": {},
   "outputs": [
    {
     "name": "stdout",
     "output_type": "stream",
     "text": [
      "{12, 'd', 13, 14, 15, 16, 17, 18, 19, 20, 'c', 'a', 'e', 'b'}\n",
      "{12, 'd', 13, 14, 15, 16, 17, 18, 19, 20, 'c', 'a', 'e', 'b'}\n"
     ]
    }
   ],
   "source": [
    "#Join Multiple Sets:\n",
    "item1={'a','b','c','d','e'}\n",
    "item2={12,13,14,15,16,17,18,19,20}\n",
    "item3={'a','b','c','d','e'}\n",
    "item4={12,13,14,15,16,17,18,19,20}\n",
    "item5=item1.union(item2,item3,item4)\n",
    "item6=item1|item2|item3|item4\n",
    "print(item5)\n",
    "print(item6)"
   ]
  },
  {
   "cell_type": "code",
   "execution_count": 47,
   "metadata": {},
   "outputs": [
    {
     "name": "stdout",
     "output_type": "stream",
     "text": [
      "{34, 'apples', 12, 78, 'fruits', 'oranges', 56}\n"
     ]
    }
   ],
   "source": [
    "#Join Set With Tuples:\n",
    "item1={\"fruits\",\"apples\",\"oranges\",\"fruits\"}\n",
    "item3=(12,34,56,78)\n",
    "item4=item1.union(item3)\n",
    "print(item4)"
   ]
  },
  {
   "cell_type": "code",
   "execution_count": 61,
   "metadata": {},
   "outputs": [
    {
     "name": "stdout",
     "output_type": "stream",
     "text": [
      "{'apple', 'microsoft', 'cherry', 'banana', 'google'}\n",
      "{'apple', 'microsoft', 'google'}\n"
     ]
    }
   ],
   "source": [
    "#Update method:\n",
    "item1={\"apple\", \"banana\", \"cherry\"}\n",
    "item2={\"google\", \"microsoft\", \"apple\"}\n",
    "item1.update(item2)\n",
    "print(item1)\n",
    "#intersection and & operator:\n",
    "\n",
    "item3=item1 .intersection (item2)\n",
    "print(item3)"
   ]
  },
  {
   "cell_type": "code",
   "execution_count": 56,
   "metadata": {},
   "outputs": [
    {
     "name": "stdout",
     "output_type": "stream",
     "text": [
      "{'apple'}\n"
     ]
    }
   ],
   "source": [
    "# Use of & operator:\n",
    "set1 = {\"apple\", \"banana\", \"cherry\"}\n",
    "set2 = {\"google\", \"microsoft\", \"apple\"}\n",
    "\n",
    "set3 = set1 & set2\n",
    "print(set3)"
   ]
  },
  {
   "cell_type": "code",
   "execution_count": 63,
   "metadata": {},
   "outputs": [
    {
     "name": "stdout",
     "output_type": "stream",
     "text": [
      "set()\n"
     ]
    }
   ],
   "source": [
    "#intersection_update:\n",
    "set1 = {\"apple\", \"banana\", \"cherry\"}\n",
    "set2 = {\"google\", \"microsoft\"}\n",
    "\n",
    "set1.intersection_update(set2)\n",
    "print(set1)\n"
   ]
  },
  {
   "cell_type": "code",
   "execution_count": 72,
   "metadata": {},
   "outputs": [
    {
     "name": "stdout",
     "output_type": "stream",
     "text": [
      "{False, 1}\n",
      "{'apple', 12}\n",
      "{'apple', 12}\n"
     ]
    }
   ],
   "source": [
    "#Boolean types:\n",
    "#Difference types and difference_update\n",
    "set1={\"apple\",True,12,0}\n",
    "set2={False,\"fruits\",1,False}\n",
    "set3=set1.intersection(set2)\n",
    "set4=set1.difference(set2)\n",
    "set1.difference_update(set2)\n",
    "print(set3)\n",
    "print(set4)\n",
    "print(set1)"
   ]
  },
  {
   "cell_type": "code",
   "execution_count": 76,
   "metadata": {},
   "outputs": [
    {
     "name": "stdout",
     "output_type": "stream",
     "text": [
      "{0, 'apple', 12, True}\n",
      "{12, 'apple', 'fruits'}\n",
      "{12, 'apple', 'fruits'}\n"
     ]
    }
   ],
   "source": [
    "#Symmetric_Difference and ^ operator\n",
    "set1={\"apple\",True,12,0}\n",
    "set2={False,\"fruits\",1,False}\n",
    "set3=set1.symmetric_difference(set2)\n",
    "set4=set1^set2\n",
    "set1.symmetric_difference(set2)\n",
    "print(set1)\n",
    "print(set4)\n",
    "print(set3)"
   ]
  },
  {
   "cell_type": "markdown",
   "metadata": {},
   "source": [
    "# Python Dictonories:\n"
   ]
  },
  {
   "cell_type": "code",
   "execution_count": 88,
   "metadata": {},
   "outputs": [
    {
     "name": "stdout",
     "output_type": "stream",
     "text": [
      "{'model': 2020, 'car': 'Carolla', 'color': 'White', 'item1': [234, 456, 678], 'item2': 'hello', 'item3': 'True'}\n",
      "White\n",
      "6\n",
      "<class 'dict'>\n"
     ]
    }
   ],
   "source": [
    "# Create Dictinory and access value,Dictionary lengthand data types:\n",
    "\n",
    "data={\n",
    "    \"model\":2020,\n",
    "    \"car\":\"Carolla\",\n",
    "    \"color\":\"White\",\n",
    "    \"item1\":[234,456,678],\n",
    "    \"item2\":\"hello\",\n",
    "    \"item3\":\"True\"\n",
    "}\n",
    "\n",
    "\n",
    "print(data)\n",
    "print(data[\"color\"])\n",
    "print(len(data))\n",
    "print(type(data))"
   ]
  },
  {
   "cell_type": "code",
   "execution_count": 90,
   "metadata": {},
   "outputs": [
    {
     "name": "stdout",
     "output_type": "stream",
     "text": [
      "{'name': 'samra', 'place': 'wahcantt', 'car': 'Black'}\n"
     ]
    }
   ],
   "source": [
    "#Use of dict() operator:\n",
    "mydata=dict(name=\"samra\",place=\"wahcantt\",car=\"Black\")\n",
    "print(mydata)"
   ]
  },
  {
   "cell_type": "code",
   "execution_count": 94,
   "metadata": {},
   "outputs": [
    {
     "name": "stdout",
     "output_type": "stream",
     "text": [
      "2017\n"
     ]
    }
   ],
   "source": [
    "#Accessing items using get method:\n",
    "data={\n",
    "\"car\":\"Blue\",\n",
    "\"Color\":\"Orange\",\n",
    "\"Model\":\"2017\"\n",
    "}\n",
    "x=data[\"Model\"]\n",
    "x\n",
    "y=data.get(\"Model\")\n",
    "print(y)\n"
   ]
  },
  {
   "cell_type": "code",
   "execution_count": 103,
   "metadata": {},
   "outputs": [
    {
     "name": "stdout",
     "output_type": "stream",
     "text": [
      "dict_keys(['model', 'car', 'color', 'item1', 'item2', 'item3'])\n",
      "dict_values([2020, 'Carolla', 'White', [234, 456, 678], 'hello', 'True'])\n"
     ]
    },
    {
     "data": {
      "text/plain": [
       "<function print(*args, sep=' ', end='\\n', file=None, flush=False)>"
      ]
     },
     "execution_count": 103,
     "metadata": {},
     "output_type": "execute_result"
    }
   ],
   "source": [
    "#Accessing keys and values items also update keys:\n",
    "\n",
    "data={\n",
    "    \"model\":2020,\n",
    "    \"car\":\"Carolla\",\n",
    "    \"color\":\"White\",\n",
    "    \"item1\":[234,456,678],\n",
    "    \"item2\":\"hello\",\n",
    "    \"item3\":\"True\"\n",
    "}\n",
    "print(data.keys())\n",
    "print(data.values())\n",
    "x=data.values()\n",
    "x\n",
    "data[\"model\"]=2020\n",
    "data[\"city\"]=\"Islamabad\"\n",
    "data.items()\n",
    "print\n"
   ]
  },
  {
   "cell_type": "code",
   "execution_count": 106,
   "metadata": {},
   "outputs": [
    {
     "name": "stdout",
     "output_type": "stream",
     "text": [
      "dict_items([('model', 2020), ('car', 'Carolla'), ('color', 'White'), ('item1', [234, 456, 678]), ('item2', 'hello'), ('item3', 'True')])\n",
      "True\n"
     ]
    }
   ],
   "source": [
    "#items method and check :\n",
    "\n",
    "data={\n",
    "    \"model\":2020,\n",
    "    \"car\":\"Carolla\",\n",
    "    \"color\":\"White\",\n",
    "    \"item1\":[234,456,678],\n",
    "    \"item2\":\"hello\",\n",
    "    \"item3\":\"True\"\n",
    "}\n",
    "print(data.items())\n",
    "if \"item2\" in data:\n",
    "    print(True)"
   ]
  },
  {
   "cell_type": "code",
   "execution_count": 4,
   "metadata": {},
   "outputs": [],
   "source": [
    "#Check if key exist:\n",
    "data={\n",
    "    \"model\":2020,\n",
    "    \"car\":\"Carolla\",\n",
    "    \"color\":\"White\",\n",
    "    \"item1\":[234,456,678],\n",
    "    \"item2\":\"hello\",\n",
    "    \"item3\":\"True\"\n",
    "}\n",
    "if \"pakistan\" in data:\n",
    "    print(data.values())\n"
   ]
  },
  {
   "cell_type": "code",
   "execution_count": 9,
   "metadata": {},
   "outputs": [
    {
     "name": "stdout",
     "output_type": "stream",
     "text": [
      "dict_values([3028, 'Carolla', 'White', [234, 456, 678], 'hello', 'True'])\n",
      "dict_items([('model', 3028), ('car', 'Carolla'), ('color', 'White'), ('item1', [234, 456, 678]), ('item2', 'hello'), ('item3', 'True')])\n",
      "None\n",
      "{'model': 3028, 'car': 'Carolla', 'color': 'Black', 'item1': [234, 456, 678], 'item2': 'hello', 'item3': 'True'}\n"
     ]
    }
   ],
   "source": [
    "#Access items,Update Dictionary:\n",
    "data={\n",
    "     \"model\":2020,\n",
    "    \"car\":\"Carolla\",\n",
    "    \"color\":\"White\",\n",
    "    \"item1\":[234,456,678],\n",
    "    \"item2\":\"hello\",\n",
    "    \"item3\":\"True\"\n",
    "}\n",
    "x=data.keys()\n",
    "data[\"model\"]=3028\n",
    "print(data.values())\n",
    "print(data.items())\n",
    "print(data.update({\"color\":\"Black\"}))\n",
    "print(data)\n",
    "\n",
    "\n"
   ]
  },
  {
   "cell_type": "code",
   "execution_count": 18,
   "metadata": {},
   "outputs": [
    {
     "name": "stdout",
     "output_type": "stream",
     "text": [
      "{'model': 2020, 'car': 'Carolla', 'item2': 'hello', 'item3': 'True'}\n",
      "{}\n"
     ]
    }
   ],
   "source": [
    "#Remove items:\n",
    "data={\n",
    "     \"model\":2020,\n",
    "    \"car\":\"Carolla\",\n",
    "    \"color\":\"White\",\n",
    "    \"item1\":[234,456,678],\n",
    "    \"item2\":\"hello\",\n",
    "    \"item3\":\"True\"\n",
    "}\n",
    "data.pop(\"color\")\n",
    "del data[\"item1\"]\n",
    "print(data)\n",
    "data.clear()\n",
    "print(data)\n"
   ]
  },
  {
   "cell_type": "code",
   "execution_count": 25,
   "metadata": {},
   "outputs": [
    {
     "name": "stdout",
     "output_type": "stream",
     "text": [
      "model\n",
      "car\n",
      "color\n",
      "item1\n",
      "item2\n",
      "item3\n",
      "2020\n",
      "Carolla\n",
      "White\n",
      "[234, 456, 678]\n",
      "hello\n",
      "True\n",
      "model\n",
      "car\n",
      "color\n",
      "item1\n",
      "item2\n",
      "item3\n",
      "2020\n",
      "Carolla\n",
      "White\n",
      "[234, 456, 678]\n",
      "hello\n",
      "True\n"
     ]
    }
   ],
   "source": [
    "#Loop Dictionaries:\n",
    "data={\n",
    "     \"model\":2020,\n",
    "    \"car\":\"Carolla\",\n",
    "    \"color\":\"White\",\n",
    "    \"item1\":[234,456,678],\n",
    "    \"item2\":\"hello\",\n",
    "    \"item3\":\"True\"\n",
    "}\n",
    "for x in data:\n",
    "    print(x)\n",
    "for x in data:# if want to print values:\n",
    "     print(data[x])\n",
    "# Use key and value method:\n",
    "for x in data.keys():\n",
    "    print(x)\n",
    "for x in data.values():# if want to print values:\n",
    " print(x)"
   ]
  },
  {
   "cell_type": "code",
   "execution_count": 26,
   "metadata": {},
   "outputs": [
    {
     "name": "stdout",
     "output_type": "stream",
     "text": [
      "('model', 2020)\n",
      "('car', 'Carolla')\n",
      "('color', 'White')\n",
      "('item1', [234, 456, 678])\n",
      "('item2', 'hello')\n",
      "('item3', 'True')\n"
     ]
    }
   ],
   "source": [
    "#Loop both keys and values:\n",
    "for x in data.items():\n",
    "    print(x)\n"
   ]
  },
  {
   "cell_type": "code",
   "execution_count": 27,
   "metadata": {},
   "outputs": [
    {
     "name": "stdout",
     "output_type": "stream",
     "text": [
      "{'model': 2020, 'car': 'Carolla', 'color': 'White', 'item1': [234, 456, 678], 'item2': 'hello', 'item3': 'True'}\n"
     ]
    }
   ],
   "source": [
    "# Copy Dictionaries:\n",
    "data={\n",
    "    \"model\":2020,\n",
    "    \"car\":\"Carolla\",\n",
    "    \"color\":\"White\",\n",
    "    \"item1\":[234,456,678],\n",
    "    \"item2\":\"hello\",\n",
    "    \"item3\":\"True\"\n",
    "}\n",
    "newdict=data.copy()\n",
    "print(newdict)"
   ]
  },
  {
   "cell_type": "code",
   "execution_count": 28,
   "metadata": {},
   "outputs": [
    {
     "name": "stdout",
     "output_type": "stream",
     "text": [
      "{'model': 2020, 'car': 'Carolla', 'color': 'White', 'item1': [234, 456, 678], 'item2': 'hello', 'item3': 'True'}\n"
     ]
    }
   ],
   "source": [
    "#use dict method:\n",
    "data={\n",
    "    \"model\":2020,\n",
    "    \"car\":\"Carolla\",\n",
    "    \"color\":\"White\",\n",
    "    \"item1\":[234,456,678],\n",
    "    \"item2\":\"hello\",\n",
    "    \"item3\":\"True\"\n",
    "}\n",
    "newdict=dict(data)\n",
    "print(newdict)\n"
   ]
  },
  {
   "cell_type": "code",
   "execution_count": 30,
   "metadata": {},
   "outputs": [
    {
     "name": "stdout",
     "output_type": "stream",
     "text": [
      "{'child1': {'name': 'Emil', 'year': 2004}, 'child2': {'name': 'Tobias', 'year': 2007}, 'child3': {'name': 'Linus', 'year': 2011}}\n"
     ]
    }
   ],
   "source": [
    "# use nested dictionaries:\n",
    "myfamily = {\n",
    "  \"child1\" : {\n",
    "    \"name\" : \"Emil\",\n",
    "    \"year\" : 2004\n",
    "  },\n",
    "  \"child2\" : {\n",
    "    \"name\" : \"Tobias\",\n",
    "    \"year\" : 2007\n",
    "  },\n",
    "  \"child3\" : {\n",
    "    \"name\" : \"Linus\",\n",
    "    \"year\" : 2011\n",
    "  }\n",
    "}\n",
    "print(myfamily)"
   ]
  },
  {
   "cell_type": "code",
   "execution_count": 1,
   "metadata": {},
   "outputs": [
    {
     "name": "stdout",
     "output_type": "stream",
     "text": [
      "{'child1': 'child1', 'child2': 'child2', 'child3': 'child3'}\n"
     ]
    }
   ],
   "source": [
    "#add new dictionary into nested dictionaries:\n",
    "myfamily = {\n",
    "  \"child1\" : {\n",
    "    \"name\" : \"Emil\",\n",
    "    \"year\" : 2004\n",
    "  },\n",
    "  \"child2\" : {\n",
    "    \"name\" : \"Tobias\",\n",
    "    \"year\" : 2007\n",
    "  },\n",
    "  \"child3\" : {\n",
    "    \"name\" : \"Linus\",\n",
    "    \"year\" : 2011\n",
    "  }\n",
    "}\n",
    "family2={\n",
    "    \"child1\":\"child1\",\n",
    "    \"child2\":\"child2\",\n",
    "    \"child3\":\"child3\"\n",
    "}\n",
    "print(family2)"
   ]
  },
  {
   "cell_type": "code",
   "execution_count": 34,
   "metadata": {},
   "outputs": [
    {
     "name": "stdout",
     "output_type": "stream",
     "text": [
      "child1\n",
      "name: Emil\n",
      "year: 2004\n",
      "child2\n",
      "name: Tobias\n",
      "year: 2007\n",
      "child3\n",
      "name: Linus\n",
      "year: 2011\n"
     ]
    }
   ],
   "source": [
    "#Loop through nested Dictionaries:\n",
    "for x, obj in myfamily.items():\n",
    "  print(x)\n",
    "\n",
    "  for y in obj:\n",
    "    print(y + ':', obj[y])"
   ]
  },
  {
   "cell_type": "code",
   "execution_count": null,
   "metadata": {},
   "outputs": [],
   "source": []
  }
 ],
 "metadata": {
  "kernelspec": {
   "display_name": "Python 3",
   "language": "python",
   "name": "python3"
  },
  "language_info": {
   "codemirror_mode": {
    "name": "ipython",
    "version": 3
   },
   "file_extension": ".py",
   "mimetype": "text/x-python",
   "name": "python",
   "nbconvert_exporter": "python",
   "pygments_lexer": "ipython3",
   "version": "3.12.6"
  }
 },
 "nbformat": 4,
 "nbformat_minor": 2
}
